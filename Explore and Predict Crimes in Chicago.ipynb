{
 "cells": [
  {
   "cell_type": "markdown",
   "metadata": {},
   "source": [
    "# Explore and Predict Crimes in Chicago \n",
    "- Coursework for **BENVGSA6: Data Science for Spatial Systems**\n",
    "  * Candidate number: SXWX3\n",
    "  * Student number: 17053682\n",
    "  * Date: 22/04/2018\n",
    "  * Documatation word count: 2162 words\n",
    "- Kernel: Python 3\n",
    "- Packages used in this notebook and their version numbers: \n",
    "  * numpy: *1.13.1*\n",
    "  * pandas: *0.20.3*\n",
    "  * matplotlib: *2.0.2*\n",
    "  * scikit-learn: *0.19.0*\n",
    "  \n",
    "### Table of Contents\n",
    "* [Introduction](#0-Introduction)\n",
    "* [Objective](#1-Objective)\n",
    "* [Data Cleaning](#2-Data-Cleaning)\n",
    "   * [Data Source](#2.1-Data-Source)\n",
    "   * [Data Import](#2.2-Data-Import)\n",
    "   * [Data Cleaning and Manipulation](#2.3-Data-Cleaning-and-Manipulation)\n",
    "* [Data Analysis](#3-Data-Analysis)\n",
    "   * [Basic Crime Stats Analysis](#3.1-Basic-Crime-Stats-Analysis)\n",
    "   * [Analysis of Arrest](#3.2-Analysis-of-Arrest)\n",
    "   * [Analysis of Crime Type](#3.3-Analysis-of-Crime-Type)\n",
    "* [Data Classification](#4-Data-Classification)\n",
    "   * [Predict Arrest](#4.1-Predict-Arrest)\n",
    "   * [Predict Crime Type](#4.2-Predict-Crime-Type)\n",
    "* [Conclusion](#5-Conclusion)\n",
    "* [References](#References)\n",
    "\n",
    "## 0 Introduction\n",
    "The overall crime rate in City of Chicago, one of the largest cities in the US, is significantly higher than the national average level<sup>[1]</sup>. Although efforts have been made, criminal activity continues to be the most pressing problem. Therefore, analysing and predicting crime behaviour becomes increasingly essential. Previous studies and projects related to crime prediction provide an exploration of data mining methods including regression, clustering and classification applied in different scenarios.\n",
    "\n",
    "\n",
    "## 1 Objective\n",
    "The aim of this project consists of two parts：\n",
    "* Firstly, analyse and visualise detailed information in crime dataset to yield deep insights into criminal behaviour in Chicago;\n",
    "* Secondly, use machine learning techniques - Decision Tree and Random Forest respectively to predict arrests and the type of crimes given a series of geographical and time-based features.\n",
    "\n",
    "\n"
   ]
  },
  {
   "cell_type": "markdown",
   "metadata": {},
   "source": [
    "## 2 Data Cleaning\n",
    "### 2.1 Data Source\n",
    "- Data Owner:  Chicago Police Department\n",
    "- Link:     [Chicago Data Portal](https://data.cityofchicago.org/Public-Safety/Crimes-2001-to-present/ijzp-q8t2)\n",
    "\n",
    "### 2.2 Data Import\n",
    "**Import the basic libraries before start.**"
   ]
  },
  {
   "cell_type": "code",
   "execution_count": 1,
   "metadata": {
    "collapsed": true
   },
   "outputs": [],
   "source": [
    "# import numpy, pandas, matplotlib packages \n",
    "import numpy as np\n",
    "import pandas as pd\n",
    "import matplotlib\n",
    "import matplotlib.pyplot as plt \n",
    "\n",
    "# specify number of rows to show\n",
    "pd.set_option('display.max_rows', 300) \n",
    "\n",
    "# specify default number format to 4 decimal places\n",
    "pd.options.display.float_format = '{:40,.4f}'.format \n",
    "\n",
    "# specify that graphs should use ggplot styling\n",
    "plt.style.use('ggplot') \n",
    "\n",
    "# ensure graphs properly display in the notebook\n",
    "%matplotlib inline"
   ]
  },
  {
   "cell_type": "markdown",
   "metadata": {},
   "source": [
    "**Import the dataset `'Crimes.csv'` as a dataframe called `'df'`.** Check the header and the first few rows using `.head()`."
   ]
  },
  {
   "cell_type": "code",
   "execution_count": 2,
   "metadata": {},
   "outputs": [
    {
     "data": {
      "text/html": [
       "<div>\n",
       "<style>\n",
       "    .dataframe thead tr:only-child th {\n",
       "        text-align: right;\n",
       "    }\n",
       "\n",
       "    .dataframe thead th {\n",
       "        text-align: left;\n",
       "    }\n",
       "\n",
       "    .dataframe tbody tr th {\n",
       "        vertical-align: top;\n",
       "    }\n",
       "</style>\n",
       "<table border=\"1\" class=\"dataframe\">\n",
       "  <thead>\n",
       "    <tr style=\"text-align: right;\">\n",
       "      <th></th>\n",
       "      <th>ID</th>\n",
       "      <th>Case Number</th>\n",
       "      <th>Block</th>\n",
       "      <th>IUCR</th>\n",
       "      <th>Primary Type</th>\n",
       "      <th>Description</th>\n",
       "      <th>Location Description</th>\n",
       "      <th>Arrest</th>\n",
       "      <th>Domestic</th>\n",
       "      <th>Beat</th>\n",
       "      <th>...</th>\n",
       "      <th>Ward</th>\n",
       "      <th>Community Area</th>\n",
       "      <th>FBI Code</th>\n",
       "      <th>X Coordinate</th>\n",
       "      <th>Y Coordinate</th>\n",
       "      <th>Year</th>\n",
       "      <th>Updated On</th>\n",
       "      <th>Latitude</th>\n",
       "      <th>Longitude</th>\n",
       "      <th>Location</th>\n",
       "    </tr>\n",
       "    <tr>\n",
       "      <th>Date</th>\n",
       "      <th></th>\n",
       "      <th></th>\n",
       "      <th></th>\n",
       "      <th></th>\n",
       "      <th></th>\n",
       "      <th></th>\n",
       "      <th></th>\n",
       "      <th></th>\n",
       "      <th></th>\n",
       "      <th></th>\n",
       "      <th></th>\n",
       "      <th></th>\n",
       "      <th></th>\n",
       "      <th></th>\n",
       "      <th></th>\n",
       "      <th></th>\n",
       "      <th></th>\n",
       "      <th></th>\n",
       "      <th></th>\n",
       "      <th></th>\n",
       "      <th></th>\n",
       "    </tr>\n",
       "  </thead>\n",
       "  <tbody>\n",
       "    <tr>\n",
       "      <th>09/21/2017 12:15:00 AM</th>\n",
       "      <td>11094370</td>\n",
       "      <td>JA440032</td>\n",
       "      <td>072XX N CALIFORNIA AVE</td>\n",
       "      <td>1122</td>\n",
       "      <td>DECEPTIVE PRACTICE</td>\n",
       "      <td>COUNTERFEIT CHECK</td>\n",
       "      <td>CURRENCY EXCHANGE</td>\n",
       "      <td>True</td>\n",
       "      <td>False</td>\n",
       "      <td>2411</td>\n",
       "      <td>...</td>\n",
       "      <td>50</td>\n",
       "      <td>2</td>\n",
       "      <td>10</td>\n",
       "      <td>1,156,443.0000</td>\n",
       "      <td>1,947,707.0000</td>\n",
       "      <td>2017</td>\n",
       "      <td>03/01/2018 15:52</td>\n",
       "      <td>42.0123</td>\n",
       "      <td>-87.6997</td>\n",
       "      <td>(42.012293397, -87.699714109)</td>\n",
       "    </tr>\n",
       "    <tr>\n",
       "      <th>10/12/2017 19:14</th>\n",
       "      <td>11118031</td>\n",
       "      <td>JA470589</td>\n",
       "      <td>055XX W GRAND AVE</td>\n",
       "      <td>1345</td>\n",
       "      <td>CRIMINAL DAMAGE</td>\n",
       "      <td>TO CITY OF CHICAGO PROPERTY</td>\n",
       "      <td>JAIL / LOCK-UP FACILITY</td>\n",
       "      <td>True</td>\n",
       "      <td>False</td>\n",
       "      <td>2515</td>\n",
       "      <td>...</td>\n",
       "      <td>29</td>\n",
       "      <td>19</td>\n",
       "      <td>14</td>\n",
       "      <td>1,138,788.0000</td>\n",
       "      <td>1,913,480.0000</td>\n",
       "      <td>2017</td>\n",
       "      <td>03/01/2018 15:52</td>\n",
       "      <td>41.9187</td>\n",
       "      <td>-87.7655</td>\n",
       "      <td>(41.918711651, -87.76551063)</td>\n",
       "    </tr>\n",
       "    <tr>\n",
       "      <th>10/30/2017 11:52:00 AM</th>\n",
       "      <td>11134189</td>\n",
       "      <td>JA491697</td>\n",
       "      <td>043XX S TALMAN AVE</td>\n",
       "      <td>4651</td>\n",
       "      <td>OTHER OFFENSE</td>\n",
       "      <td>SEX OFFENDER: FAIL REG NEW ADD</td>\n",
       "      <td>APARTMENT</td>\n",
       "      <td>True</td>\n",
       "      <td>False</td>\n",
       "      <td>922</td>\n",
       "      <td>...</td>\n",
       "      <td>12</td>\n",
       "      <td>58</td>\n",
       "      <td>26</td>\n",
       "      <td>1,159,425.0000</td>\n",
       "      <td>1,875,711.0000</td>\n",
       "      <td>2017</td>\n",
       "      <td>03/01/2018 15:52</td>\n",
       "      <td>41.8147</td>\n",
       "      <td>-87.6907</td>\n",
       "      <td>(41.814669784, -87.690726696)</td>\n",
       "    </tr>\n",
       "    <tr>\n",
       "      <th>09/29/2017 06:45:00 PM</th>\n",
       "      <td>11156462</td>\n",
       "      <td>JA521389</td>\n",
       "      <td>055XX W BELMONT AVE</td>\n",
       "      <td>1110</td>\n",
       "      <td>DECEPTIVE PRACTICE</td>\n",
       "      <td>BOGUS CHECK</td>\n",
       "      <td>CURRENCY EXCHANGE</td>\n",
       "      <td>True</td>\n",
       "      <td>False</td>\n",
       "      <td>2514</td>\n",
       "      <td>...</td>\n",
       "      <td>30</td>\n",
       "      <td>19</td>\n",
       "      <td>11</td>\n",
       "      <td>1,138,653.0000</td>\n",
       "      <td>1,920,720.0000</td>\n",
       "      <td>2017</td>\n",
       "      <td>03/01/2018 15:52</td>\n",
       "      <td>41.9386</td>\n",
       "      <td>-87.7658</td>\n",
       "      <td>(41.938581442, -87.765830579)</td>\n",
       "    </tr>\n",
       "    <tr>\n",
       "      <th>12/01/2017 06:20</th>\n",
       "      <td>11164874</td>\n",
       "      <td>JA531910</td>\n",
       "      <td>022XX W CHICAGO AVE</td>\n",
       "      <td>265</td>\n",
       "      <td>CRIM SEXUAL ASSAULT</td>\n",
       "      <td>AGGRAVATED: OTHER</td>\n",
       "      <td>STREET</td>\n",
       "      <td>True</td>\n",
       "      <td>False</td>\n",
       "      <td>1221</td>\n",
       "      <td>...</td>\n",
       "      <td>32</td>\n",
       "      <td>24</td>\n",
       "      <td>2</td>\n",
       "      <td>1,161,264.0000</td>\n",
       "      <td>1,905,292.0000</td>\n",
       "      <td>2017</td>\n",
       "      <td>03/01/2018 15:52</td>\n",
       "      <td>41.8958</td>\n",
       "      <td>-87.6832</td>\n",
       "      <td>(41.895805099, -87.683159355)</td>\n",
       "    </tr>\n",
       "  </tbody>\n",
       "</table>\n",
       "<p>5 rows × 21 columns</p>\n",
       "</div>"
      ],
      "text/plain": [
       "                              ID Case Number                   Block  IUCR  \\\n",
       "Date                                                                         \n",
       "09/21/2017 12:15:00 AM  11094370    JA440032  072XX N CALIFORNIA AVE  1122   \n",
       "10/12/2017 19:14        11118031    JA470589       055XX W GRAND AVE  1345   \n",
       "10/30/2017 11:52:00 AM  11134189    JA491697      043XX S TALMAN AVE  4651   \n",
       "09/29/2017 06:45:00 PM  11156462    JA521389     055XX W BELMONT AVE  1110   \n",
       "12/01/2017 06:20        11164874    JA531910     022XX W CHICAGO AVE   265   \n",
       "\n",
       "                               Primary Type                     Description  \\\n",
       "Date                                                                          \n",
       "09/21/2017 12:15:00 AM   DECEPTIVE PRACTICE               COUNTERFEIT CHECK   \n",
       "10/12/2017 19:14            CRIMINAL DAMAGE     TO CITY OF CHICAGO PROPERTY   \n",
       "10/30/2017 11:52:00 AM        OTHER OFFENSE  SEX OFFENDER: FAIL REG NEW ADD   \n",
       "09/29/2017 06:45:00 PM   DECEPTIVE PRACTICE                     BOGUS CHECK   \n",
       "12/01/2017 06:20        CRIM SEXUAL ASSAULT               AGGRAVATED: OTHER   \n",
       "\n",
       "                           Location Description  Arrest  Domestic  Beat  \\\n",
       "Date                                                                      \n",
       "09/21/2017 12:15:00 AM        CURRENCY EXCHANGE    True     False  2411   \n",
       "10/12/2017 19:14        JAIL / LOCK-UP FACILITY    True     False  2515   \n",
       "10/30/2017 11:52:00 AM                APARTMENT    True     False   922   \n",
       "09/29/2017 06:45:00 PM        CURRENCY EXCHANGE    True     False  2514   \n",
       "12/01/2017 06:20                         STREET    True     False  1221   \n",
       "\n",
       "                                    ...                Ward  Community Area  \\\n",
       "Date                                ...                                       \n",
       "09/21/2017 12:15:00 AM              ...                  50               2   \n",
       "10/12/2017 19:14                    ...                  29              19   \n",
       "10/30/2017 11:52:00 AM              ...                  12              58   \n",
       "09/29/2017 06:45:00 PM              ...                  30              19   \n",
       "12/01/2017 06:20                    ...                  32              24   \n",
       "\n",
       "                        FBI Code                             X Coordinate  \\\n",
       "Date                                                                        \n",
       "09/21/2017 12:15:00 AM        10                           1,156,443.0000   \n",
       "10/12/2017 19:14              14                           1,138,788.0000   \n",
       "10/30/2017 11:52:00 AM        26                           1,159,425.0000   \n",
       "09/29/2017 06:45:00 PM        11                           1,138,653.0000   \n",
       "12/01/2017 06:20               2                           1,161,264.0000   \n",
       "\n",
       "                                                   Y Coordinate  Year  \\\n",
       "Date                                                                    \n",
       "09/21/2017 12:15:00 AM                           1,947,707.0000  2017   \n",
       "10/12/2017 19:14                                 1,913,480.0000  2017   \n",
       "10/30/2017 11:52:00 AM                           1,875,711.0000  2017   \n",
       "09/29/2017 06:45:00 PM                           1,920,720.0000  2017   \n",
       "12/01/2017 06:20                                 1,905,292.0000  2017   \n",
       "\n",
       "                              Updated On  \\\n",
       "Date                                       \n",
       "09/21/2017 12:15:00 AM  03/01/2018 15:52   \n",
       "10/12/2017 19:14        03/01/2018 15:52   \n",
       "10/30/2017 11:52:00 AM  03/01/2018 15:52   \n",
       "09/29/2017 06:45:00 PM  03/01/2018 15:52   \n",
       "12/01/2017 06:20        03/01/2018 15:52   \n",
       "\n",
       "                                                       Latitude  \\\n",
       "Date                                                              \n",
       "09/21/2017 12:15:00 AM                                  42.0123   \n",
       "10/12/2017 19:14                                        41.9187   \n",
       "10/30/2017 11:52:00 AM                                  41.8147   \n",
       "09/29/2017 06:45:00 PM                                  41.9386   \n",
       "12/01/2017 06:20                                        41.8958   \n",
       "\n",
       "                                                      Longitude  \\\n",
       "Date                                                              \n",
       "09/21/2017 12:15:00 AM                                 -87.6997   \n",
       "10/12/2017 19:14                                       -87.7655   \n",
       "10/30/2017 11:52:00 AM                                 -87.6907   \n",
       "09/29/2017 06:45:00 PM                                 -87.7658   \n",
       "12/01/2017 06:20                                       -87.6832   \n",
       "\n",
       "                                             Location  \n",
       "Date                                                   \n",
       "09/21/2017 12:15:00 AM  (42.012293397, -87.699714109)  \n",
       "10/12/2017 19:14         (41.918711651, -87.76551063)  \n",
       "10/30/2017 11:52:00 AM  (41.814669784, -87.690726696)  \n",
       "09/29/2017 06:45:00 PM  (41.938581442, -87.765830579)  \n",
       "12/01/2017 06:20        (41.895805099, -87.683159355)  \n",
       "\n",
       "[5 rows x 21 columns]"
      ]
     },
     "execution_count": 2,
     "metadata": {},
     "output_type": "execute_result"
    }
   ],
   "source": [
    "# load csv data and set up the 'df' dataframe, set index column to 'Date'\n",
    "df = pd.read_csv('Crimes.csv', index_col='Date')\n",
    " \n",
    "df.head()"
   ]
  },
  {
   "cell_type": "markdown",
   "metadata": {},
   "source": [
    "**Get an overview of the columns by counting distinct for each variable.**"
   ]
  },
  {
   "cell_type": "code",
   "execution_count": 3,
   "metadata": {},
   "outputs": [
    {
     "name": "stdout",
     "output_type": "stream",
     "text": [
      "There are a total of 266,862 values in the dataset.\n",
      "There are a total of 266,862 ID.\n",
      "There are a total of 266,815 Case Number.\n",
      "There are a total of 27,791 Block.\n",
      "There are a total of 329 IUCR.\n",
      "There are a total of 32 Primary Type.\n",
      "There are a total of 308 Description.\n",
      "There are a total of 128 Location Description.\n",
      "There are a total of 2 Arrest.\n",
      "There are a total of 2 Domestic.\n",
      "There are a total of 274 Beat.\n",
      "There are a total of 23 District.\n",
      "There are a total of 50 Ward.\n",
      "There are a total of 77 Community Area.\n",
      "There are a total of 26 FBI Code.\n",
      "There are a total of 51,050 X Coordinate.\n",
      "There are a total of 72,607 Y Coordinate.\n",
      "There are a total of 1 Year.\n",
      "There are a total of 741 Updated On.\n",
      "There are a total of 128,994 Latitude.\n",
      "There are a total of 128,883 Longitude.\n",
      "There are a total of 129,264 Location.\n"
     ]
    }
   ],
   "source": [
    "# Count unique values for each variable\n",
    "print(\"There are a total of {:,} values in the dataset.\".format(len(df)))\n",
    "\n",
    "# iterate over 22 variables and print their value counts \n",
    "for var, series in df.iteritems():\n",
    "    print(\"There are a total of {:,} {}.\".format(len(series.value_counts()), var))"
   ]
  },
  {
   "cell_type": "markdown",
   "metadata": {},
   "source": [
    "**Let's have a look of the summary of this imported dataframe using `.info()`** to view the index, counts and types of each column and memory usage. There are totally 21 columns and 266,862 entries in the dataset. We notice that there are some entries without location information. We'll deal with that later."
   ]
  },
  {
   "cell_type": "code",
   "execution_count": 4,
   "metadata": {},
   "outputs": [
    {
     "name": "stdout",
     "output_type": "stream",
     "text": [
      "<class 'pandas.core.frame.DataFrame'>\n",
      "Index: 266862 entries, 09/21/2017 12:15:00 AM to 12/23/2017 12:00:00 PM\n",
      "Data columns (total 21 columns):\n",
      "ID                      266862 non-null int64\n",
      "Case Number             266862 non-null object\n",
      "Block                   266862 non-null object\n",
      "IUCR                    266862 non-null object\n",
      "Primary Type            266862 non-null object\n",
      "Description             266862 non-null object\n",
      "Location Description    265947 non-null object\n",
      "Arrest                  266862 non-null bool\n",
      "Domestic                266862 non-null bool\n",
      "Beat                    266862 non-null int64\n",
      "District                266861 non-null float64\n",
      "Ward                    266862 non-null int64\n",
      "Community Area          266862 non-null int64\n",
      "FBI Code                266862 non-null object\n",
      "X Coordinate            265072 non-null float64\n",
      "Y Coordinate            265072 non-null float64\n",
      "Year                    266862 non-null int64\n",
      "Updated On              266862 non-null object\n",
      "Latitude                265072 non-null float64\n",
      "Longitude               265072 non-null float64\n",
      "Location                265072 non-null object\n",
      "dtypes: bool(2), float64(5), int64(5), object(9)\n",
      "memory usage: 41.2+ MB\n"
     ]
    }
   ],
   "source": [
    "df.info()"
   ]
  },
  {
   "cell_type": "markdown",
   "metadata": {},
   "source": [
    "### 2.3 Data Cleaning and Manipulation\n",
    "The dataset contains some redundant information at present, which is not considered very useful for this project. In this case we will get rid of these columns. **Drop the columns below and save as a new dataframe named `crime`**. "
   ]
  },
  {
   "cell_type": "code",
   "execution_count": 5,
   "metadata": {},
   "outputs": [
    {
     "data": {
      "text/html": [
       "<div>\n",
       "<style>\n",
       "    .dataframe thead tr:only-child th {\n",
       "        text-align: right;\n",
       "    }\n",
       "\n",
       "    .dataframe thead th {\n",
       "        text-align: left;\n",
       "    }\n",
       "\n",
       "    .dataframe tbody tr th {\n",
       "        vertical-align: top;\n",
       "    }\n",
       "</style>\n",
       "<table border=\"1\" class=\"dataframe\">\n",
       "  <thead>\n",
       "    <tr style=\"text-align: right;\">\n",
       "      <th></th>\n",
       "      <th>Primary Type</th>\n",
       "      <th>Location Description</th>\n",
       "      <th>Arrest</th>\n",
       "      <th>Domestic</th>\n",
       "      <th>Community Area</th>\n",
       "    </tr>\n",
       "    <tr>\n",
       "      <th>Date</th>\n",
       "      <th></th>\n",
       "      <th></th>\n",
       "      <th></th>\n",
       "      <th></th>\n",
       "      <th></th>\n",
       "    </tr>\n",
       "  </thead>\n",
       "  <tbody>\n",
       "    <tr>\n",
       "      <th>09/21/2017 12:15:00 AM</th>\n",
       "      <td>DECEPTIVE PRACTICE</td>\n",
       "      <td>CURRENCY EXCHANGE</td>\n",
       "      <td>True</td>\n",
       "      <td>False</td>\n",
       "      <td>2</td>\n",
       "    </tr>\n",
       "    <tr>\n",
       "      <th>10/12/2017 19:14</th>\n",
       "      <td>CRIMINAL DAMAGE</td>\n",
       "      <td>JAIL / LOCK-UP FACILITY</td>\n",
       "      <td>True</td>\n",
       "      <td>False</td>\n",
       "      <td>19</td>\n",
       "    </tr>\n",
       "    <tr>\n",
       "      <th>10/30/2017 11:52:00 AM</th>\n",
       "      <td>OTHER OFFENSE</td>\n",
       "      <td>APARTMENT</td>\n",
       "      <td>True</td>\n",
       "      <td>False</td>\n",
       "      <td>58</td>\n",
       "    </tr>\n",
       "  </tbody>\n",
       "</table>\n",
       "</div>"
      ],
      "text/plain": [
       "                              Primary Type     Location Description  Arrest  \\\n",
       "Date                                                                          \n",
       "09/21/2017 12:15:00 AM  DECEPTIVE PRACTICE        CURRENCY EXCHANGE    True   \n",
       "10/12/2017 19:14           CRIMINAL DAMAGE  JAIL / LOCK-UP FACILITY    True   \n",
       "10/30/2017 11:52:00 AM       OTHER OFFENSE                APARTMENT    True   \n",
       "\n",
       "                        Domestic  Community Area  \n",
       "Date                                              \n",
       "09/21/2017 12:15:00 AM     False               2  \n",
       "10/12/2017 19:14           False              19  \n",
       "10/30/2017 11:52:00 AM     False              58  "
      ]
     },
     "execution_count": 5,
     "metadata": {},
     "output_type": "execute_result"
    }
   ],
   "source": [
    "crime = df.drop(['ID', 'Block', 'Case Number', 'IUCR', 'Description', 'Beat', 'District', 'Ward', 'Year', 'FBI Code', \n",
    "                 'X Coordinate', 'Y Coordinate', 'Updated On', 'Latitude', 'Longitude', 'Location'], axis = 1)\n",
    "crime.head(3)"
   ]
  },
  {
   "cell_type": "markdown",
   "metadata": {},
   "source": [
    "Now it contains the following set of features:\n",
    "\n",
    "  * **Date** - Timestamp when the crime occurred (basic format:YYYY-mm-dd hh:MM:ss). *We can extract more time-based information.* \n",
    "  * **Primary Type** - The primary type of crimes. *One of our prediction task target.*\n",
    "  * **Location Description** - Description of the location where the incident occurred<sup>[2]</sup>.\n",
    "  * **Arrest** - Indicates whether an arrest was made. *The other target for prediction.*\n",
    "  * **Domestic** - Indicates whether the crime was domestic-related<sup>[2]</sup>.\n",
    "  * **Community Area** - Indicates the community area where the crime occurred<sup>[2]</sup>. See [community areas](https://data.cityofchicago.org/d/cauq-8yn6)."
   ]
  },
  {
   "cell_type": "markdown",
   "metadata": {},
   "source": [
    "**Rename columns `Primary Type`, `Location Description`, and `Community Area`.** Strip out spaces."
   ]
  },
  {
   "cell_type": "code",
   "execution_count": 6,
   "metadata": {
    "collapsed": true
   },
   "outputs": [],
   "source": [
    "crime = crime.rename(columns={'Primary Type': 'PrimaryType', \n",
    "                              'Location Description': 'Location',\n",
    "                              'Community Area': 'CommunityArea'})"
   ]
  },
  {
   "cell_type": "markdown",
   "metadata": {},
   "source": [
    "Before moving on, remove the null values from the dataframe."
   ]
  },
  {
   "cell_type": "code",
   "execution_count": 7,
   "metadata": {
    "collapsed": true
   },
   "outputs": [],
   "source": [
    "crime = crime.dropna(axis = 0, how = 'any')"
   ]
  },
  {
   "cell_type": "markdown",
   "metadata": {},
   "source": [
    "### 2.3.1 Parse the Date\n",
    "Have a check of the data types encoded for each column from the info in last section. The type of the index column *`Date`*  is currently `object`. **Use `.to_datetime()` function to change it to the date format.** "
   ]
  },
  {
   "cell_type": "code",
   "execution_count": 8,
   "metadata": {
    "collapsed": true
   },
   "outputs": [],
   "source": [
    "crime.index = pd.to_datetime(crime.index)"
   ]
  },
  {
   "cell_type": "markdown",
   "metadata": {},
   "source": [
    "**Verify the change we made by running `.dtypes` on the column again.** The crime data ranges from *01/01/2017 00:00:00* to *31/12/2017 23:58:00*."
   ]
  },
  {
   "cell_type": "code",
   "execution_count": 9,
   "metadata": {},
   "outputs": [
    {
     "name": "stdout",
     "output_type": "stream",
     "text": [
      "datetime64[ns]\n",
      "2017-01-01 00:00:00\n",
      "2017-12-31 23:58:00\n"
     ]
    }
   ],
   "source": [
    "# check type of 'Date'\n",
    "print(crime.index.dtype)\n",
    "\n",
    "# print the time range of the dataset\n",
    "print(crime.index.min())\n",
    "print(crime.index.max())"
   ]
  },
  {
   "cell_type": "markdown",
   "metadata": {},
   "source": [
    "**Parse the `'Date'` variable to prepare for the analysis.** Extract month, day, weekday and hour features and add new columns to the dataframe. "
   ]
  },
  {
   "cell_type": "code",
   "execution_count": 10,
   "metadata": {
    "collapsed": true
   },
   "outputs": [],
   "source": [
    "# extract date and time information from 'Date' variable, add columns to the table\n",
    "crime['Date'] = crime.index\n",
    "crime['Month'] = crime['Date'].dt.month\n",
    "crime['Day'] = crime['Date'].dt.day\n",
    "crime['Weekday'] = crime['Date'].dt.dayofweek #The day of the week with Monday=0, Sunday=6\n",
    "crime['Hour'] = crime['Date'].dt.hour"
   ]
  },
  {
   "cell_type": "markdown",
   "metadata": {},
   "source": [
    "To make use of the datetime information, we can divide one day into two time periods: day and night."
   ]
  },
  {
   "cell_type": "code",
   "execution_count": 11,
   "metadata": {
    "collapsed": true
   },
   "outputs": [],
   "source": [
    "# extract time from Dates and add a new column TimeOfDay representing Day/Night\n",
    "from datetime import datetime\n",
    "\n",
    "# create an empty list\n",
    "TimeOfDay = []\n",
    "\n",
    "# Day: 6:00AM - 5:59PM, Night: 6:00PM - 5:59AM\n",
    "start_t = datetime.strptime('06:00', '%H:%M').time()\n",
    "end_t = datetime.strptime('18:00', '%H:%M').time()\n",
    "\n",
    "# iterate over the Date index, add Day/Night to the new column\n",
    "for row in crime['Date']:\n",
    "    if start_t <= row.time() < end_t:\n",
    "        TimeOfDay.append('Day')\n",
    "    else:\n",
    "        TimeOfDay.append('Night')\n",
    "\n",
    "# add TimeOfDay as a new column in the dataframe\n",
    "crime['TimeOfDay'] = TimeOfDay"
   ]
  },
  {
   "cell_type": "markdown",
   "metadata": {},
   "source": [
    "After parsing the date and time information, we can drop the `Date` column."
   ]
  },
  {
   "cell_type": "code",
   "execution_count": 12,
   "metadata": {
    "collapsed": true
   },
   "outputs": [],
   "source": [
    "# drop the Date column\n",
    "crime = crime.drop(['Date'], axis = 1)"
   ]
  },
  {
   "cell_type": "markdown",
   "metadata": {},
   "source": [
    "### 2.3.2 Reduce Dimensionality of Categories  \n",
    "The community areas in Chicago are 77 divisions of Chicago<sup>[1] </sup>.  As the [map](https://en.wikipedia.org/wiki/Community_areas_in_Chicago) shows, community area is the sub-category of 'Sides'. There are 4 Sides in Chicago - central, north side, west side and south side. 'Central' includes 3 community areas, while 'North Side' covers 23, 'West Side' covers 9 and 'South Side' contains the most - 42. We can group 77 community areas by 'Sides' to reduce dimensions of categories."
   ]
  },
  {
   "cell_type": "code",
   "execution_count": 13,
   "metadata": {
    "collapsed": true
   },
   "outputs": [],
   "source": [
    "# set dictionaries of four 'sides'\n",
    "central = dict.fromkeys([8, 32, 33], 'Central')\n",
    "north = dict.fromkeys([5, 6, 7, 21, 22, 1, 2, 3, 4, 9, 10, 11, 12, 13, 14, 76, 77, \n",
    "                       15, 16, 17, 18, 19, 20], 'North Side')\n",
    "west = dict.fromkeys([23, 24, 25, 26, 27, 28, 29, 30, 31], 'West Side')\n",
    "south = dict.fromkeys([34, 35, 36, 37, 38, 39, 40, 41, 42, 43, 60, 69, 56, 57, 58, \n",
    "                       59, 61, 62, 63, 64, 65, 66, 67, 68, 44, 45, 46, 47, 48, 49, \n",
    "                       50, 51, 52, 53, 54, 55, 70, 71, 72, 73, 74, 75], 'South Side')"
   ]
  },
  {
   "cell_type": "code",
   "execution_count": 14,
   "metadata": {
    "collapsed": true
   },
   "outputs": [],
   "source": [
    "# replace the original values in Community Area column \n",
    "crime.CommunityArea = crime.CommunityArea.replace(central, regex=True)\n",
    "crime.CommunityArea = crime.CommunityArea.replace(north, regex=True)\n",
    "crime.CommunityArea = crime.CommunityArea.replace(west, regex=True)\n",
    "crime.CommunityArea = crime.CommunityArea.replace(south, regex=True)"
   ]
  },
  {
   "cell_type": "markdown",
   "metadata": {},
   "source": [
    "### 2.3.3 Set Data Types\n",
    "`'Month', 'Day', 'Weekday', 'Hour'` are currently set as integer which are apparently categorical data. In order to avoid being treated as numeric, **their types should be converted from integer to string using `.astype()`**."
   ]
  },
  {
   "cell_type": "code",
   "execution_count": 15,
   "metadata": {},
   "outputs": [
    {
     "data": {
      "text/plain": [
       "PrimaryType      object\n",
       "Location         object\n",
       "Arrest             bool\n",
       "Domestic           bool\n",
       "CommunityArea    object\n",
       "Month            object\n",
       "Day              object\n",
       "Weekday          object\n",
       "Hour             object\n",
       "TimeOfDay        object\n",
       "dtype: object"
      ]
     },
     "execution_count": 15,
     "metadata": {},
     "output_type": "execute_result"
    }
   ],
   "source": [
    "crime['Month'] = crime.Month.astype(str)\n",
    "crime['Day'] = crime.Day.astype(str)\n",
    "crime['Weekday'] = crime.Weekday.astype(str)\n",
    "crime['Hour'] = crime.Hour.astype(str)\n",
    "crime.dtypes"
   ]
  },
  {
   "cell_type": "markdown",
   "metadata": {},
   "source": [
    "Before starting with analysis, examine the dataframe again."
   ]
  },
  {
   "cell_type": "code",
   "execution_count": 16,
   "metadata": {},
   "outputs": [
    {
     "data": {
      "text/html": [
       "<div>\n",
       "<style>\n",
       "    .dataframe thead tr:only-child th {\n",
       "        text-align: right;\n",
       "    }\n",
       "\n",
       "    .dataframe thead th {\n",
       "        text-align: left;\n",
       "    }\n",
       "\n",
       "    .dataframe tbody tr th {\n",
       "        vertical-align: top;\n",
       "    }\n",
       "</style>\n",
       "<table border=\"1\" class=\"dataframe\">\n",
       "  <thead>\n",
       "    <tr style=\"text-align: right;\">\n",
       "      <th></th>\n",
       "      <th>PrimaryType</th>\n",
       "      <th>Location</th>\n",
       "      <th>Arrest</th>\n",
       "      <th>Domestic</th>\n",
       "      <th>CommunityArea</th>\n",
       "      <th>Month</th>\n",
       "      <th>Day</th>\n",
       "      <th>Weekday</th>\n",
       "      <th>Hour</th>\n",
       "      <th>TimeOfDay</th>\n",
       "    </tr>\n",
       "    <tr>\n",
       "      <th>Date</th>\n",
       "      <th></th>\n",
       "      <th></th>\n",
       "      <th></th>\n",
       "      <th></th>\n",
       "      <th></th>\n",
       "      <th></th>\n",
       "      <th></th>\n",
       "      <th></th>\n",
       "      <th></th>\n",
       "      <th></th>\n",
       "    </tr>\n",
       "  </thead>\n",
       "  <tbody>\n",
       "    <tr>\n",
       "      <th>2017-09-21 00:15:00</th>\n",
       "      <td>DECEPTIVE PRACTICE</td>\n",
       "      <td>CURRENCY EXCHANGE</td>\n",
       "      <td>True</td>\n",
       "      <td>False</td>\n",
       "      <td>North Side</td>\n",
       "      <td>9</td>\n",
       "      <td>21</td>\n",
       "      <td>3</td>\n",
       "      <td>0</td>\n",
       "      <td>Night</td>\n",
       "    </tr>\n",
       "    <tr>\n",
       "      <th>2017-10-12 19:14:00</th>\n",
       "      <td>CRIMINAL DAMAGE</td>\n",
       "      <td>JAIL / LOCK-UP FACILITY</td>\n",
       "      <td>True</td>\n",
       "      <td>False</td>\n",
       "      <td>North Side</td>\n",
       "      <td>10</td>\n",
       "      <td>12</td>\n",
       "      <td>3</td>\n",
       "      <td>19</td>\n",
       "      <td>Night</td>\n",
       "    </tr>\n",
       "    <tr>\n",
       "      <th>2017-10-30 11:52:00</th>\n",
       "      <td>OTHER OFFENSE</td>\n",
       "      <td>APARTMENT</td>\n",
       "      <td>True</td>\n",
       "      <td>False</td>\n",
       "      <td>South Side</td>\n",
       "      <td>10</td>\n",
       "      <td>30</td>\n",
       "      <td>0</td>\n",
       "      <td>11</td>\n",
       "      <td>Day</td>\n",
       "    </tr>\n",
       "    <tr>\n",
       "      <th>2017-09-29 18:45:00</th>\n",
       "      <td>DECEPTIVE PRACTICE</td>\n",
       "      <td>CURRENCY EXCHANGE</td>\n",
       "      <td>True</td>\n",
       "      <td>False</td>\n",
       "      <td>North Side</td>\n",
       "      <td>9</td>\n",
       "      <td>29</td>\n",
       "      <td>4</td>\n",
       "      <td>18</td>\n",
       "      <td>Night</td>\n",
       "    </tr>\n",
       "    <tr>\n",
       "      <th>2017-12-01 06:20:00</th>\n",
       "      <td>CRIM SEXUAL ASSAULT</td>\n",
       "      <td>STREET</td>\n",
       "      <td>True</td>\n",
       "      <td>False</td>\n",
       "      <td>West Side</td>\n",
       "      <td>12</td>\n",
       "      <td>1</td>\n",
       "      <td>4</td>\n",
       "      <td>6</td>\n",
       "      <td>Day</td>\n",
       "    </tr>\n",
       "  </tbody>\n",
       "</table>\n",
       "</div>"
      ],
      "text/plain": [
       "                             PrimaryType                 Location  Arrest  \\\n",
       "Date                                                                        \n",
       "2017-09-21 00:15:00   DECEPTIVE PRACTICE        CURRENCY EXCHANGE    True   \n",
       "2017-10-12 19:14:00      CRIMINAL DAMAGE  JAIL / LOCK-UP FACILITY    True   \n",
       "2017-10-30 11:52:00        OTHER OFFENSE                APARTMENT    True   \n",
       "2017-09-29 18:45:00   DECEPTIVE PRACTICE        CURRENCY EXCHANGE    True   \n",
       "2017-12-01 06:20:00  CRIM SEXUAL ASSAULT                   STREET    True   \n",
       "\n",
       "                     Domestic CommunityArea Month Day Weekday Hour TimeOfDay  \n",
       "Date                                                                          \n",
       "2017-09-21 00:15:00     False    North Side     9  21       3    0     Night  \n",
       "2017-10-12 19:14:00     False    North Side    10  12       3   19     Night  \n",
       "2017-10-30 11:52:00     False    South Side    10  30       0   11       Day  \n",
       "2017-09-29 18:45:00     False    North Side     9  29       4   18     Night  \n",
       "2017-12-01 06:20:00     False     West Side    12   1       4    6       Day  "
      ]
     },
     "execution_count": 16,
     "metadata": {},
     "output_type": "execute_result"
    }
   ],
   "source": [
    "#Check the updated dataframe\n",
    "crime.head()"
   ]
  },
  {
   "cell_type": "markdown",
   "metadata": {},
   "source": [
    "## 3 Data Analysis\n",
    "After cleaning the original dataset, now we can start to explore the features and trends of crimes in Chicago. A preliminary analysis will be performed in this section to provide insights to the interaction among these features. What's more, this step enables us to identify useful variables that can be furtherly selected to build the prediction models.\n",
    "### 3.1 Basic Crime Stats Visualisation\n",
    "#### 3.1.1 Total number by month\n",
    "First, let's look at the crime trends per month. As the line graph clearly shows, the number of crimes in Chicago has an obvious seasonal variation. More crimes happened in summer than in winter. Februry has the least number of crimes following by a consecutive rise and reached a peak in July. "
   ]
  },
  {
   "cell_type": "code",
   "execution_count": 17,
   "metadata": {},
   "outputs": [
    {
     "data": {
      "image/png": "[encoded data removed]",
      "text/plain": [
       "<matplotlib.figure.Figure at 0x1be36666860>"
      ]
     },
     "metadata": {},
     "output_type": "display_data"
    }
   ],
   "source": [
    "# plot numbers of crimes by month\n",
    "crime.resample('M').size().plot()\n",
    "\n",
    "# define the title and the labels\n",
    "plt.title('Number of Crimes by Month')\n",
    "plt.xlabel('Years')\n",
    "plt.ylabel('Number of crimes')\n",
    "\n",
    "plt.show()"
   ]
  },
  {
   "cell_type": "markdown",
   "metadata": {},
   "source": [
    "#### 3.1.2 Total number by day\n",
    "Visualise the crimes stats on a daily basis. Most of the daily crime counts in 2017 fluctuated between 500 and 900."
   ]
  },
  {
   "cell_type": "code",
   "execution_count": 18,
   "metadata": {},
   "outputs": [
    {
     "data": {
      "image/png": "[encoded data removed]",
      "text/plain": [
       "<matplotlib.figure.Figure at 0x1be366661d0>"
      ]
     },
     "metadata": {},
     "output_type": "display_data"
    }
   ],
   "source": [
    "# set figure size\n",
    "plt.figure(figsize=(10,5))\n",
    "\n",
    "# plot numbers of crimes data by day \n",
    "crime.resample('D').size().plot()\n",
    "\n",
    "# define the title and the labels\n",
    "plt.title('Number of Crimes by Day')\n",
    "plt.xlabel('Months')\n",
    "plt.ylabel('Number of crimes')\n",
    "\n",
    "plt.show()"
   ]
  },
  {
   "cell_type": "markdown",
   "metadata": {},
   "source": [
    "#### 3.1.3 Total number by weekday\n",
    "The bar graph below depicts the number of crime occurrence on weekday, where Friday has the largest number while Wednesday has the least. In general, crimes appear to be evenly distributed across days of the week."
   ]
  },
  {
   "cell_type": "code",
   "execution_count": 19,
   "metadata": {},
   "outputs": [
    {
     "data": {
      "image/png": "[encoded data removed]",
      "text/plain": [
       "<matplotlib.figure.Figure at 0x1be30258ba8>"
      ]
     },
     "metadata": {},
     "output_type": "display_data"
    }
   ],
   "source": [
    "# plot numbers of crimes data by weekday\n",
    "crime.groupby('Weekday').size().plot(kind = 'barh')\n",
    "\n",
    "# define the title and the labels\n",
    "plt.title('Number of Crimes by Day')\n",
    "plt.xlabel('Days')\n",
    "plt.ylabel('Number of crimes')\n",
    "import calendar\n",
    "plt.yticks(np.arange(7), calendar.day_name)\n",
    "plt.show()"
   ]
  },
  {
   "cell_type": "markdown",
   "metadata": {},
   "source": [
    "#### 3.1.4 Total number by hour\n",
    "The graph suggests the crime occurrence trendency by hour. Surprisingly, we find the count of incidents reached a peak at noon. "
   ]
  },
  {
   "cell_type": "code",
   "execution_count": 20,
   "metadata": {},
   "outputs": [
    {
     "data": {
      "image/png": "[encoded data removed]",
      "text/plain": [
       "<matplotlib.figure.Figure at 0x1be29d060b8>"
      ]
     },
     "metadata": {},
     "output_type": "display_data"
    }
   ],
   "source": [
    "# plot numbers of crimes data by hour\n",
    "crime.groupby('Hour').size().plot(kind = 'bar')\n",
    "\n",
    "# define the title and the labels\n",
    "plt.title('Number of Crimes by Hour')\n",
    "plt.xlabel('Hours')\n",
    "plt.ylabel('Number of crimes')\n",
    "plt.show()"
   ]
  },
  {
   "cell_type": "markdown",
   "metadata": {},
   "source": [
    "#### 3.1.5 Total number by Day/Night\n",
    "Apparently, more crimes occurred during the day rather than at night."
   ]
  },
  {
   "cell_type": "code",
   "execution_count": 21,
   "metadata": {},
   "outputs": [
    {
     "data": {
      "image/png": "[encoded data removed]",
      "text/plain": [
       "<matplotlib.figure.Figure at 0x1be29f8fa90>"
      ]
     },
     "metadata": {},
     "output_type": "display_data"
    }
   ],
   "source": [
    "# set figure size\n",
    "plt.figure(figsize=(7,2))\n",
    "\n",
    "# plot numbers of crimes data by day/night\n",
    "crime.groupby('TimeOfDay').size().plot(kind = 'barh')\n",
    "\n",
    "# define the title and the labels\n",
    "plt.title('Number of Crimes by Day/Night')\n",
    "plt.xlabel('Number of crimes')\n",
    "plt.ylabel('Time of Day')\n",
    "plt.show()"
   ]
  },
  {
   "cell_type": "markdown",
   "metadata": {},
   "source": [
    "#### 3.1.6 Total number by Chicago Sides\n",
    "The graph below demonstrates that the south side is the most dangerous area in Chicago with a total of more than 120,000 crimes committed in 2017, which is significantly more than the other 3 sides."
   ]
  },
  {
   "cell_type": "code",
   "execution_count": 22,
   "metadata": {},
   "outputs": [
    {
     "data": {
      "text/html": [
       "<div>\n",
       "<style>\n",
       "    .dataframe thead tr:only-child th {\n",
       "        text-align: right;\n",
       "    }\n",
       "\n",
       "    .dataframe thead th {\n",
       "        text-align: left;\n",
       "    }\n",
       "\n",
       "    .dataframe tbody tr th {\n",
       "        vertical-align: top;\n",
       "    }\n",
       "</style>\n",
       "<table border=\"1\" class=\"dataframe\">\n",
       "  <thead>\n",
       "    <tr style=\"text-align: right;\">\n",
       "      <th></th>\n",
       "      <th>CommunityArea</th>\n",
       "      <th>Counts</th>\n",
       "    </tr>\n",
       "  </thead>\n",
       "  <tbody>\n",
       "    <tr>\n",
       "      <th>0</th>\n",
       "      <td>South Side</td>\n",
       "      <td>117528</td>\n",
       "    </tr>\n",
       "    <tr>\n",
       "      <th>1</th>\n",
       "      <td>West Side</td>\n",
       "      <td>66714</td>\n",
       "    </tr>\n",
       "    <tr>\n",
       "      <th>2</th>\n",
       "      <td>North Side</td>\n",
       "      <td>57075</td>\n",
       "    </tr>\n",
       "    <tr>\n",
       "      <th>3</th>\n",
       "      <td>Central</td>\n",
       "      <td>24630</td>\n",
       "    </tr>\n",
       "  </tbody>\n",
       "</table>\n",
       "</div>"
      ],
      "text/plain": [
       "  CommunityArea  Counts\n",
       "0    South Side  117528\n",
       "1     West Side   66714\n",
       "2    North Side   57075\n",
       "3       Central   24630"
      ]
     },
     "execution_count": 22,
     "metadata": {},
     "output_type": "execute_result"
    }
   ],
   "source": [
    "# get crime counts group by primary type sorting in descending order \n",
    "Sides_counts= pd.DataFrame(crime.groupby('CommunityArea').size().sort_values(ascending=False).rename('Counts').reset_index())\n",
    "\n",
    "# show the first 10 rows \n",
    "Sides_counts"
   ]
  },
  {
   "cell_type": "code",
   "execution_count": 23,
   "metadata": {},
   "outputs": [
    {
     "data": {
      "image/png": "[encoded data removed]",
      "text/plain": [
       "<matplotlib.figure.Figure at 0x1be29f9e390>"
      ]
     },
     "metadata": {},
     "output_type": "display_data"
    }
   ],
   "source": [
    "# plot numbers of crimes by Sides\n",
    "crime.groupby('CommunityArea').size().sort_values().plot(kind = 'barh')\n",
    "\n",
    "# define the title and the labels\n",
    "plt.title('Number of Crimes by Region')\n",
    "plt.xlabel('Sides')\n",
    "plt.ylabel('Number of crimes')\n",
    "\n",
    "plt.show()"
   ]
  },
  {
   "cell_type": "markdown",
   "metadata": {},
   "source": [
    "#### 3.1.7 Total number by crime type\n",
    "There are totally 32 primary types. The most common type of crimes is 'Theft', followed by 'Battery', 'Criminal Damage' and 'Assualt'. "
   ]
  },
  {
   "cell_type": "code",
   "execution_count": 24,
   "metadata": {},
   "outputs": [
    {
     "data": {
      "text/html": [
       "<div>\n",
       "<style>\n",
       "    .dataframe thead tr:only-child th {\n",
       "        text-align: right;\n",
       "    }\n",
       "\n",
       "    .dataframe thead th {\n",
       "        text-align: left;\n",
       "    }\n",
       "\n",
       "    .dataframe tbody tr th {\n",
       "        vertical-align: top;\n",
       "    }\n",
       "</style>\n",
       "<table border=\"1\" class=\"dataframe\">\n",
       "  <thead>\n",
       "    <tr style=\"text-align: right;\">\n",
       "      <th></th>\n",
       "      <th>Primary Type</th>\n",
       "      <th>Counts</th>\n",
       "    </tr>\n",
       "  </thead>\n",
       "  <tbody>\n",
       "    <tr>\n",
       "      <th>0</th>\n",
       "      <td>THEFT</td>\n",
       "      <td>64193</td>\n",
       "    </tr>\n",
       "    <tr>\n",
       "      <th>1</th>\n",
       "      <td>BATTERY</td>\n",
       "      <td>49199</td>\n",
       "    </tr>\n",
       "    <tr>\n",
       "      <th>2</th>\n",
       "      <td>CRIMINAL DAMAGE</td>\n",
       "      <td>29027</td>\n",
       "    </tr>\n",
       "    <tr>\n",
       "      <th>3</th>\n",
       "      <td>ASSAULT</td>\n",
       "      <td>19283</td>\n",
       "    </tr>\n",
       "    <tr>\n",
       "      <th>4</th>\n",
       "      <td>DECEPTIVE PRACTICE</td>\n",
       "      <td>18334</td>\n",
       "    </tr>\n",
       "    <tr>\n",
       "      <th>5</th>\n",
       "      <td>OTHER OFFENSE</td>\n",
       "      <td>17116</td>\n",
       "    </tr>\n",
       "    <tr>\n",
       "      <th>6</th>\n",
       "      <td>BURGLARY</td>\n",
       "      <td>12981</td>\n",
       "    </tr>\n",
       "    <tr>\n",
       "      <th>7</th>\n",
       "      <td>ROBBERY</td>\n",
       "      <td>11882</td>\n",
       "    </tr>\n",
       "    <tr>\n",
       "      <th>8</th>\n",
       "      <td>NARCOTICS</td>\n",
       "      <td>11567</td>\n",
       "    </tr>\n",
       "    <tr>\n",
       "      <th>9</th>\n",
       "      <td>MOTOR VEHICLE THEFT</td>\n",
       "      <td>11423</td>\n",
       "    </tr>\n",
       "  </tbody>\n",
       "</table>\n",
       "</div>"
      ],
      "text/plain": [
       "          Primary Type  Counts\n",
       "0                THEFT   64193\n",
       "1              BATTERY   49199\n",
       "2      CRIMINAL DAMAGE   29027\n",
       "3              ASSAULT   19283\n",
       "4   DECEPTIVE PRACTICE   18334\n",
       "5        OTHER OFFENSE   17116\n",
       "6             BURGLARY   12981\n",
       "7              ROBBERY   11882\n",
       "8            NARCOTICS   11567\n",
       "9  MOTOR VEHICLE THEFT   11423"
      ]
     },
     "execution_count": 24,
     "metadata": {},
     "output_type": "execute_result"
    }
   ],
   "source": [
    "# get crime counts group by primary type sorting in descending order \n",
    "Type_counts= pd.DataFrame(df.groupby('Primary Type').size().sort_values(ascending=False).rename('Counts').reset_index())\n",
    "\n",
    "# show the first 10 rows \n",
    "Type_counts.head(10)"
   ]
  },
  {
   "cell_type": "code",
   "execution_count": 25,
   "metadata": {},
   "outputs": [
    {
     "data": {
      "image/png": "[encoded data removed]",
      "text/plain": [
       "<matplotlib.figure.Figure at 0x1be2a0a35c0>"
      ]
     },
     "metadata": {},
     "output_type": "display_data"
    }
   ],
   "source": [
    "# set figure size\n",
    "plt.figure(figsize=(10,10))\n",
    "\n",
    "# get crime counts by primary type and sort it ascending, plot the figure\n",
    "df.groupby('Primary Type').size().sort_values(ascending = True).plot(kind = 'barh')\n",
    "\n",
    "# define the title and the labels\n",
    "plt.title('Numbers of Crimes by Primary Type')\n",
    "plt.ylabel('Crime Type')\n",
    "plt.xlabel('Number of crimes')\n",
    "\n",
    "plt.show()"
   ]
  },
  {
   "cell_type": "markdown",
   "metadata": {},
   "source": [
    "#### 3.1.8 Total number by location\n",
    "The table and graph below present the most usual places where a crime took place. With 128 locations listed, here we display the top ten. The maximum numbers of crimes occurred on streets, followed by residences, apartments and sidewalks. "
   ]
  },
  {
   "cell_type": "code",
   "execution_count": 26,
   "metadata": {},
   "outputs": [
    {
     "data": {
      "text/html": [
       "<div>\n",
       "<style>\n",
       "    .dataframe thead tr:only-child th {\n",
       "        text-align: right;\n",
       "    }\n",
       "\n",
       "    .dataframe thead th {\n",
       "        text-align: left;\n",
       "    }\n",
       "\n",
       "    .dataframe tbody tr th {\n",
       "        vertical-align: top;\n",
       "    }\n",
       "</style>\n",
       "<table border=\"1\" class=\"dataframe\">\n",
       "  <thead>\n",
       "    <tr style=\"text-align: right;\">\n",
       "      <th></th>\n",
       "      <th>Location</th>\n",
       "      <th>Counts</th>\n",
       "    </tr>\n",
       "  </thead>\n",
       "  <tbody>\n",
       "    <tr>\n",
       "      <th>0</th>\n",
       "      <td>STREET</td>\n",
       "      <td>59979</td>\n",
       "    </tr>\n",
       "    <tr>\n",
       "      <th>1</th>\n",
       "      <td>RESIDENCE</td>\n",
       "      <td>45302</td>\n",
       "    </tr>\n",
       "    <tr>\n",
       "      <th>2</th>\n",
       "      <td>APARTMENT</td>\n",
       "      <td>33225</td>\n",
       "    </tr>\n",
       "    <tr>\n",
       "      <th>3</th>\n",
       "      <td>SIDEWALK</td>\n",
       "      <td>20996</td>\n",
       "    </tr>\n",
       "    <tr>\n",
       "      <th>4</th>\n",
       "      <td>OTHER</td>\n",
       "      <td>11169</td>\n",
       "    </tr>\n",
       "    <tr>\n",
       "      <th>5</th>\n",
       "      <td>PARKING LOT/GARAGE(NON.RESID.)</td>\n",
       "      <td>8242</td>\n",
       "    </tr>\n",
       "    <tr>\n",
       "      <th>6</th>\n",
       "      <td>RESTAURANT</td>\n",
       "      <td>6879</td>\n",
       "    </tr>\n",
       "    <tr>\n",
       "      <th>7</th>\n",
       "      <td>SMALL RETAIL STORE</td>\n",
       "      <td>6824</td>\n",
       "    </tr>\n",
       "    <tr>\n",
       "      <th>8</th>\n",
       "      <td>RESIDENTIAL YARD (FRONT/BACK)</td>\n",
       "      <td>5301</td>\n",
       "    </tr>\n",
       "    <tr>\n",
       "      <th>9</th>\n",
       "      <td>ALLEY</td>\n",
       "      <td>5280</td>\n",
       "    </tr>\n",
       "  </tbody>\n",
       "</table>\n",
       "</div>"
      ],
      "text/plain": [
       "                         Location  Counts\n",
       "0                          STREET   59979\n",
       "1                       RESIDENCE   45302\n",
       "2                       APARTMENT   33225\n",
       "3                        SIDEWALK   20996\n",
       "4                           OTHER   11169\n",
       "5  PARKING LOT/GARAGE(NON.RESID.)    8242\n",
       "6                      RESTAURANT    6879\n",
       "7              SMALL RETAIL STORE    6824\n",
       "8   RESIDENTIAL YARD (FRONT/BACK)    5301\n",
       "9                           ALLEY    5280"
      ]
     },
     "execution_count": 26,
     "metadata": {},
     "output_type": "execute_result"
    }
   ],
   "source": [
    "# get crime counts group by location sorting in descending order \n",
    "Location_counts= pd.DataFrame(crime.groupby('Location').size().sort_values(ascending=False).rename('Counts').reset_index())\n",
    "\n",
    "# show the first 10 rows \n",
    "Location_counts.head(10)"
   ]
  },
  {
   "cell_type": "code",
   "execution_count": 27,
   "metadata": {},
   "outputs": [
    {
     "data": {
      "image/png": "[encoded data removed]",
      "text/plain": [
       "<matplotlib.figure.Figure at 0x1be29dedf60>"
      ]
     },
     "metadata": {},
     "output_type": "display_data"
    }
   ],
   "source": [
    "# set figure size\n",
    "plt.figure(figsize=(10,6))\n",
    "\n",
    "crime.groupby('Location').size().sort_values(ascending = True)[-10:].plot(kind = 'barh')\n",
    "\n",
    "# define the title and the labels\n",
    "plt.title('Chicago Crimes by Location')\n",
    "plt.ylabel('Crime Location')\n",
    "plt.xlabel('Number of crimes')\n",
    "\n",
    "plt.show()"
   ]
  },
  {
   "cell_type": "markdown",
   "metadata": {},
   "source": [
    "### 3.2 Analysis of Arrest\n",
    "#### 3.2.1 Arrest by month\n",
    "The following graph presents the monthly distribution taking both the number of crime and arrest rate into consideration. The arrest numbers were also influenced by seasonal change."
   ]
  },
  {
   "cell_type": "code",
   "execution_count": 28,
   "metadata": {},
   "outputs": [
    {
     "data": {
      "text/plain": [
       "<matplotlib.legend.Legend at 0x1be290b3b38>"
      ]
     },
     "execution_count": 28,
     "metadata": {},
     "output_type": "execute_result"
    },
    {
     "data": {
      "image/png": "[encoded data removed]",
      "text/plain": [
       "<matplotlib.figure.Figure at 0x1be290b3978>"
      ]
     },
     "metadata": {},
     "output_type": "display_data"
    }
   ],
   "source": [
    "# calculate counts of arrest and non-arrest by month\n",
    "arrest_true = crime[crime['Arrest'] == True].groupby('Month')['Arrest'].count()\n",
    "arrest_false = crime[crime['Arrest'] == False].groupby('Month')['Arrest'].count()\n",
    "\n",
    "# plot arrest data in a stacked bar chart\n",
    "arrest_true.plot(kind = 'bar', color = 'g')\n",
    "arrest_false.plot(kind = 'bar', bottom = arrest_true)\n",
    "\n",
    "# define the title and the labels\n",
    "plt.title('Arrest by Month')\n",
    "plt.xlabel('Months')\n",
    "plt.ylabel('Number of Crimes')\n",
    "plt.legend(labels = ['Arrest', 'No Arrest'], framealpha=0.5)"
   ]
  },
  {
   "cell_type": "markdown",
   "metadata": {},
   "source": [
    "#### 3.2.2 Arrest by crime type\n",
    "The chart below indicates that there is obviously a relationship between crime types and arrest rate."
   ]
  },
  {
   "cell_type": "code",
   "execution_count": 29,
   "metadata": {},
   "outputs": [
    {
     "data": {
      "text/plain": [
       "<matplotlib.legend.Legend at 0x1be29e2b748>"
      ]
     },
     "execution_count": 29,
     "metadata": {},
     "output_type": "execute_result"
    },
    {
     "data": {
      "image/png": "[encoded data removed]",
      "text/plain": [
       "<matplotlib.figure.Figure at 0x1be2a010320>"
      ]
     },
     "metadata": {},
     "output_type": "display_data"
    }
   ],
   "source": [
    "# set figure size\n",
    "plt.figure(figsize=(20,10))\n",
    "\n",
    "# get arrest counts for each primary crime type\n",
    "arrest_true_type = crime[crime['Arrest'] == True].groupby('PrimaryType')['Arrest'].size().head(15).sort_values(ascending=True)\n",
    "arrest_false_type = crime[crime['Arrest'] == False].groupby('PrimaryType')['Arrest'].size().head(15).sort_values(ascending=True)\n",
    "\n",
    "# plot arrest data in a stacked bar chart\n",
    "arrest_true_type.plot(kind = 'barh', color = 'g')\n",
    "arrest_false_type.plot(kind = 'barh', left = arrest_true_type)\n",
    "\n",
    "# define the title and the labels\n",
    "plt.title('Arrest by Crime Type', fontsize = 20)\n",
    "plt.xlabel('Number of Crimes', fontsize = 18)\n",
    "plt.ylabel('Crime Type', fontsize = 18)\n",
    "plt.legend(labels = ['Arrest', 'No Arrest'], fontsize = 16)"
   ]
  },
  {
   "cell_type": "markdown",
   "metadata": {},
   "source": [
    "#### 3.2.3 Arrest by location\n",
    "The figure suggests the location where crimes took place are also considered to be related to the arrest rate."
   ]
  },
  {
   "cell_type": "code",
   "execution_count": 30,
   "metadata": {},
   "outputs": [
    {
     "data": {
      "text/plain": [
       "<matplotlib.legend.Legend at 0x1be313ef710>"
      ]
     },
     "execution_count": 30,
     "metadata": {},
     "output_type": "execute_result"
    },
    {
     "data": {
      "image/png": "[encoded data removed]",
      "text/plain": [
       "<matplotlib.figure.Figure at 0x1be29de47b8>"
      ]
     },
     "metadata": {},
     "output_type": "display_data"
    }
   ],
   "source": [
    "# set figure size\n",
    "plt.figure(figsize=(15,6))\n",
    "\n",
    "# get arrest counts at each location\n",
    "arrest_true_location = crime[crime['Arrest'] == True].groupby('Location')['Arrest'].size().head(15).sort_values(ascending=True)\n",
    "arrest_false_location = crime[crime['Arrest'] == False].groupby('Location')['Arrest'].size().head(15).sort_values(ascending=True)\n",
    "\n",
    "# plot arrest data in a stacked bar chart\n",
    "arrest_true_location.plot(kind = 'barh', color = 'g')\n",
    "arrest_false_location.plot(kind = 'barh', left = arrest_true_location)\n",
    "\n",
    "# define the title and the labels\n",
    "plt.title('Arrest by Location', fontsize = 18)\n",
    "plt.xlabel('Number of Crimes')\n",
    "plt.ylabel('Location')\n",
    "plt.legend(labels = ['Arrest', 'No Arrest'], fontsize = 14)"
   ]
  },
  {
   "cell_type": "markdown",
   "metadata": {},
   "source": [
    "### 3.3 Analysis of Crime Type\n",
    "Have a look at the monthly trend by crime type. Apparently, not all types of crime exist a consistency with the seasonal trends of occurrence. For example, the number of theft varied with season, while no clear trend of seasonal change can be identified in deceptive practice. "
   ]
  },
  {
   "cell_type": "code",
   "execution_count": 31,
   "metadata": {},
   "outputs": [
    {
     "data": {
      "text/plain": [
       "<matplotlib.legend.Legend at 0x1be290d7080>"
      ]
     },
     "execution_count": 31,
     "metadata": {},
     "output_type": "execute_result"
    },
    {
     "data": {
      "image/png": "[encoded data removed]",
      "text/plain": [
       "<matplotlib.figure.Figure at 0x1be29ca4f60>"
      ]
     },
     "metadata": {},
     "output_type": "display_data"
    }
   ],
   "source": [
    "# get top crimes stats using isin()\n",
    "crime_top = pd.DataFrame(crime[crime['PrimaryType'].isin(['THEFT', 'BATTERY', 'CRIMINAL DAMAGE', 'ASSAULT', 'DECEPTIVE PRACTICE'])]['PrimaryType'])\n",
    "\n",
    "# group top crimes by month and crime type\n",
    "crime_top_month = crime_top.groupby([pd.TimeGrouper('M'), 'PrimaryType'])\n",
    "crime_top_data = crime_top_month.PrimaryType.count()\n",
    "\n",
    "# unstack top crimes type group for series plotting\n",
    "crime_top_data = crime_top_data.unstack()\n",
    "\n",
    "# plot top crimes data by month\n",
    "crime_top_data.plot()\n",
    "\n",
    "# define the title and the labels\n",
    "plt.title('Top Crimes by Type per Month (2015 - 2017)')\n",
    "plt.xlabel('Months')\n",
    "plt.ylabel('Number of Crimes')\n",
    "plt.legend(loc='best', fancybox=True, framealpha=0.1)"
   ]
  },
  {
   "cell_type": "markdown",
   "metadata": {},
   "source": [
    "## 4 Data Classification\n",
    "In this section, we intend to employ machine learning techniques to explore the problems of classifying and predicting\n",
    "crimes in Chicago based on the information presented in the dataset."
   ]
  },
  {
   "cell_type": "markdown",
   "metadata": {},
   "source": [
    "**Import the libaries *scikit-learn* for classification** "
   ]
  },
  {
   "cell_type": "code",
   "execution_count": 32,
   "metadata": {},
   "outputs": [
    {
     "name": "stderr",
     "output_type": "stream",
     "text": [
      "C:\\Anaconda3\\lib\\site-packages\\sklearn\\cross_validation.py:41: DeprecationWarning: This module was deprecated in version 0.18 in favor of the model_selection module into which all the refactored classes and functions are moved. Also note that the interface of the new CV iterators are different from that of this module. This module will be removed in 0.20.\n",
      "  \"This module will be removed in 0.20.\", DeprecationWarning)\n",
      "C:\\Anaconda3\\lib\\site-packages\\sklearn\\grid_search.py:42: DeprecationWarning: This module was deprecated in version 0.18 in favor of the model_selection module into which all the refactored classes and functions are moved. This module will be removed in 0.20.\n",
      "  DeprecationWarning)\n"
     ]
    }
   ],
   "source": [
    "# import packages for classification \n",
    "from sklearn.preprocessing import LabelEncoder\n",
    "from sklearn.feature_extraction import DictVectorizer\n",
    "from sklearn.cross_validation import train_test_split\n",
    "from sklearn.grid_search import GridSearchCV\n",
    "from sklearn.tree import DecisionTreeClassifier\n",
    "from sklearn.ensemble import RandomForestClassifier\n",
    "from sklearn import metrics"
   ]
  },
  {
   "cell_type": "markdown",
   "metadata": {},
   "source": [
    "### 4.1 Predict Arrest\n",
    "The first task is to predict whether an arrest is to be made for a reported crime. \n",
    "### 4.1.1 Data Pre-processing\n",
    "#### 4.1.1.1 Organise and clean the dataset"
   ]
  },
  {
   "cell_type": "markdown",
   "metadata": {
    "collapsed": true
   },
   "source": [
    "Currently there are 32 crime categories in total. From the graph in the last chapter we can find that some of the crime types bear some similarities, which means they can be combined together. For example, ASSAULT and INTIMIDATION coulde be classified as a similar type. After going through all the 32 types in the table, we are able to reduce it down to 20 categories. The aim of this move is to reduce the categorical dimensions in order to deliver better prediction results and enhance efficiency."
   ]
  },
  {
   "cell_type": "code",
   "execution_count": 33,
   "metadata": {
    "collapsed": true
   },
   "outputs": [],
   "source": [
    "# replace the 32 types with the new 20 categories \n",
    "crime_predict = crime.replace(['THEFT', 'BURGLARY', 'MOTOR VEHICLE THEFT', 'ROBBERY', 'BATTERY', 'CRIM SEXUAL ASSAULT',\n",
    "                       'SEX OFFENSE', 'NARCOTICS', 'OTHER NARCOTIC VIOLATION' , 'ASSAULT', 'INTIMIDATION',\n",
    "                       'OTHER OFFENSE', 'DECEPTIVE PRACTICE', 'CRIMINAL TRESPASS', 'WEAPONS VIOLATION', \n",
    "                       'CONCEALED CARRY LICENSE VIOLATION', 'PUBLIC INDECENCY', 'PUBLIC PEACE VIOLATION',\n",
    "                       'OFFENSE INVOLVING CHILDREN', 'PROSTITUTION', 'INTERFERENCE WITH PUBLIC OFFICER', 'HOMICIDE',\n",
    "                       'ARSON', 'CRIMINAL DAMAGE', 'GAMBLING', 'LIQUOR LAW VIOLATION', 'KIDNAPPING', 'STALKING', \n",
    "                       'OBSCENITY', 'NON - CRIMINAL', 'NON-CRIMINAL', 'NON-CRIMINAL (SUBJECT SPECIFIED)', 'HUMAN TRAFFICKING'],\n",
    "                       [1,1,1,1,2,2,2,3,3,4,4,5,6,7,8,8,9,9,10,11,12,13,14,14,15,16,17,18,18,19,19,19,20])"
   ]
  },
  {
   "cell_type": "markdown",
   "metadata": {},
   "source": [
    "Create our attribute dataset called `Arrest_attribute` which includes all attributes from `crime0` except the target attribute `'Arrest'` and three attributes (`Domestic, Day, Hour`) which are considered not of much help in predicting arrest. **Drop these columns and create a new dataframe `crime0`.** Check the contents of the new dataframe. We will use 6 variables - **`PrimaryType, Location, CommunityArea, Month, Weekday, TimeOfDay`** to predict arrest in Chicago."
   ]
  },
  {
   "cell_type": "code",
   "execution_count": 34,
   "metadata": {},
   "outputs": [
    {
     "data": {
      "text/html": [
       "<div>\n",
       "<style>\n",
       "    .dataframe thead tr:only-child th {\n",
       "        text-align: right;\n",
       "    }\n",
       "\n",
       "    .dataframe thead th {\n",
       "        text-align: left;\n",
       "    }\n",
       "\n",
       "    .dataframe tbody tr th {\n",
       "        vertical-align: top;\n",
       "    }\n",
       "</style>\n",
       "<table border=\"1\" class=\"dataframe\">\n",
       "  <thead>\n",
       "    <tr style=\"text-align: right;\">\n",
       "      <th></th>\n",
       "      <th>PrimaryType</th>\n",
       "      <th>Location</th>\n",
       "      <th>CommunityArea</th>\n",
       "      <th>Month</th>\n",
       "      <th>Weekday</th>\n",
       "      <th>TimeOfDay</th>\n",
       "    </tr>\n",
       "    <tr>\n",
       "      <th>Date</th>\n",
       "      <th></th>\n",
       "      <th></th>\n",
       "      <th></th>\n",
       "      <th></th>\n",
       "      <th></th>\n",
       "      <th></th>\n",
       "    </tr>\n",
       "  </thead>\n",
       "  <tbody>\n",
       "    <tr>\n",
       "      <th>2017-09-21 00:15:00</th>\n",
       "      <td>6</td>\n",
       "      <td>CURRENCY EXCHANGE</td>\n",
       "      <td>North Side</td>\n",
       "      <td>9</td>\n",
       "      <td>3</td>\n",
       "      <td>Night</td>\n",
       "    </tr>\n",
       "    <tr>\n",
       "      <th>2017-10-12 19:14:00</th>\n",
       "      <td>14</td>\n",
       "      <td>JAIL / LOCK-UP FACILITY</td>\n",
       "      <td>North Side</td>\n",
       "      <td>10</td>\n",
       "      <td>3</td>\n",
       "      <td>Night</td>\n",
       "    </tr>\n",
       "    <tr>\n",
       "      <th>2017-10-30 11:52:00</th>\n",
       "      <td>5</td>\n",
       "      <td>APARTMENT</td>\n",
       "      <td>South Side</td>\n",
       "      <td>10</td>\n",
       "      <td>0</td>\n",
       "      <td>Day</td>\n",
       "    </tr>\n",
       "  </tbody>\n",
       "</table>\n",
       "</div>"
      ],
      "text/plain": [
       "                     PrimaryType                 Location CommunityArea Month  \\\n",
       "Date                                                                            \n",
       "2017-09-21 00:15:00            6        CURRENCY EXCHANGE    North Side     9   \n",
       "2017-10-12 19:14:00           14  JAIL / LOCK-UP FACILITY    North Side    10   \n",
       "2017-10-30 11:52:00            5                APARTMENT    South Side    10   \n",
       "\n",
       "                    Weekday TimeOfDay  \n",
       "Date                                   \n",
       "2017-09-21 00:15:00       3     Night  \n",
       "2017-10-12 19:14:00       3     Night  \n",
       "2017-10-30 11:52:00       0       Day  "
      ]
     },
     "execution_count": 34,
     "metadata": {},
     "output_type": "execute_result"
    }
   ],
   "source": [
    "# drop columns\n",
    "arrest_attribute = crime_predict.drop(['Arrest', 'Domestic', 'Day', 'Hour'], axis = 1)\n",
    "\n",
    "# check the first few rows of the dataframe\n",
    "arrest_attribute.head(3)"
   ]
  },
  {
   "cell_type": "markdown",
   "metadata": {},
   "source": [
    "**Use `LabelEncoder` from the `scikit` library to convert categorical features to the format required for the classifier. **"
   ]
  },
  {
   "cell_type": "code",
   "execution_count": 35,
   "metadata": {
    "collapsed": true
   },
   "outputs": [],
   "source": [
    "# create the LabelEncoder object\n",
    "le = LabelEncoder() \n",
    "\n",
    "# run LabelEncoder on the Arrest column\n",
    "labels_arrest = le.fit_transform(crime_predict['Arrest']) "
   ]
  },
  {
   "cell_type": "markdown",
   "metadata": {
    "collapsed": true
   },
   "source": [
    "Let's continue handling categorical features. First, **Create an array of dictionaries for `arrest_attribute` data.**"
   ]
  },
  {
   "cell_type": "code",
   "execution_count": 36,
   "metadata": {},
   "outputs": [
    {
     "data": {
      "text/plain": [
       "{'CommunityArea': 'North Side',\n",
       " 'Location': 'CURRENCY EXCHANGE',\n",
       " 'Month': '9',\n",
       " 'PrimaryType': 6,\n",
       " 'TimeOfDay': 'Night',\n",
       " 'Weekday': '3'}"
      ]
     },
     "execution_count": 36,
     "metadata": {},
     "output_type": "execute_result"
    }
   ],
   "source": [
    "#convert attribute data to an array of dictionaries\n",
    "arrest_dict = arrest_attribute.to_dict('records')\n",
    "\n",
    "# check the first item\n",
    "arrest_dict[0]"
   ]
  },
  {
   "cell_type": "markdown",
   "metadata": {
    "collapsed": true
   },
   "source": [
    "Employ `DictVectorizer` to convert categorical attributes into the boolean columns representing each category. **Execute the `DictVectorizer` to extract the matrix and then convert it to an array for the training process.**"
   ]
  },
  {
   "cell_type": "code",
   "execution_count": 37,
   "metadata": {
    "collapsed": true
   },
   "outputs": [],
   "source": [
    "# create the DictVectorizer object\n",
    "vec = DictVectorizer()  \n",
    "\n",
    "# execute process on the record dictionaries\n",
    "vec_arrest = vec.fit_transform(arrest_dict)\n",
    "\n",
    "# covert matrix to array\n",
    "vec_arrest_array = vec_arrest.toarray() "
   ]
  },
  {
   "cell_type": "markdown",
   "metadata": {
    "collapsed": true
   },
   "source": [
    "#### 4.1.1.2 Split training and testing sets\n",
    "**Apply `train_test_split` tool from `scikit` to randomly split the attribute and label data into training and testing sets.** "
   ]
  },
  {
   "cell_type": "code",
   "execution_count": 38,
   "metadata": {},
   "outputs": [
    {
     "name": "stdout",
     "output_type": "stream",
     "text": [
      "There are a total of 199460 samples in the training dataset and 66487 samples in the testing dataset.\n"
     ]
    }
   ],
   "source": [
    "train_d_a, test_d_a, train_lab_a, test_lab_a = train_test_split(vec_arrest_array, labels_arrest)\n",
    "\n",
    "print('There are a total of ' + str(len(train_d_a)) + ' samples in the training dataset and ' \n",
    "      + str(len(test_d_a)) + ' samples in the testing dataset.')"
   ]
  },
  {
   "cell_type": "markdown",
   "metadata": {},
   "source": [
    "### 4.1.2 Model Development\n",
    "The next step is to refine the model through hyperparameter optimisation and cross-validation<sup>[8]</sup>. Use **`GridSearchCV`** method output the best parameter combinations within a range we provide, calculated using cross-validation. For the prediction model, we will employ two classifiers - **Decision Tree** and **Random Forest** for predicting arrest and compare their performance based on the results. \n",
    "### 4.1.2.1 Decision Tree\n"
   ]
  },
  {
   "cell_type": "markdown",
   "metadata": {},
   "source": [
    "**Create the `GridSearchCV` function according to the parameter settings.**"
   ]
  },
  {
   "cell_type": "code",
   "execution_count": 39,
   "metadata": {
    "collapsed": true
   },
   "outputs": [],
   "source": [
    "# define the parameter values that should be searched\n",
    "parameters_dt = {'max_depth': [7, 8, 9, 10, 11]}\n",
    "\n",
    "# initiate and fit the grid\n",
    "grid_search_dt = GridSearchCV(DecisionTreeClassifier(), parameters_dt, cv=5, scoring='accuracy')"
   ]
  },
  {
   "cell_type": "code",
   "execution_count": 40,
   "metadata": {},
   "outputs": [
    {
     "data": {
      "text/plain": [
       "GridSearchCV(cv=5, error_score='raise',\n",
       "       estimator=DecisionTreeClassifier(class_weight=None, criterion='gini', max_depth=None,\n",
       "            max_features=None, max_leaf_nodes=None,\n",
       "            min_impurity_decrease=0.0, min_impurity_split=None,\n",
       "            min_samples_leaf=1, min_samples_split=2,\n",
       "            min_weight_fraction_leaf=0.0, presort=False, random_state=None,\n",
       "            splitter='best'),\n",
       "       fit_params={}, iid=True, n_jobs=1,\n",
       "       param_grid={'max_depth': [7, 8, 9, 10, 11]},\n",
       "       pre_dispatch='2*n_jobs', refit=True, scoring='accuracy', verbose=0)"
      ]
     },
     "execution_count": 40,
     "metadata": {},
     "output_type": "execute_result"
    }
   ],
   "source": [
    "grid_search_dt.fit(train_d_a,train_lab_a)"
   ]
  },
  {
   "cell_type": "markdown",
   "metadata": {},
   "source": [
    "**Check the settings using the `grid_scores_` function. Test the model with the best parameters.**"
   ]
  },
  {
   "cell_type": "code",
   "execution_count": 41,
   "metadata": {},
   "outputs": [
    {
     "data": {
      "text/plain": [
       "[mean: 0.87721, std: 0.00076, params: {'max_depth': 7},\n",
       " mean: 0.87937, std: 0.00127, params: {'max_depth': 8},\n",
       " mean: 0.87956, std: 0.00087, params: {'max_depth': 9},\n",
       " mean: 0.87941, std: 0.00098, params: {'max_depth': 10},\n",
       " mean: 0.87961, std: 0.00082, params: {'max_depth': 11}]"
      ]
     },
     "execution_count": 41,
     "metadata": {},
     "output_type": "execute_result"
    }
   ],
   "source": [
    "# view the complete results of parameters\n",
    "grid_search_dt.grid_scores_"
   ]
  },
  {
   "cell_type": "code",
   "execution_count": 42,
   "metadata": {},
   "outputs": [
    {
     "name": "stdout",
     "output_type": "stream",
     "text": [
      "{'max_depth': 11}\n",
      "0.881285063245\n"
     ]
    }
   ],
   "source": [
    "# examine the best model and print accuracy score\n",
    "dt_score = grid_search_dt.score(test_d_a, test_lab_a)\n",
    "print(grid_search_dt.best_params_)\n",
    "print(dt_score)"
   ]
  },
  {
   "cell_type": "markdown",
   "metadata": {},
   "source": [
    "<font color=blue>We achieved a accuracy rate of **0.88** using the best-known parameter set {'max_depth': 11}. </font>"
   ]
  },
  {
   "cell_type": "markdown",
   "metadata": {},
   "source": [
    "**Examine time spent on executing `.fit()`.**"
   ]
  },
  {
   "cell_type": "code",
   "execution_count": 43,
   "metadata": {},
   "outputs": [
    {
     "name": "stdout",
     "output_type": "stream",
     "text": [
      "Wall time: 6.47 s\n"
     ]
    }
   ],
   "source": [
    "%%time\n",
    "\n",
    "# creates the DT classifier\n",
    "dt = DecisionTreeClassifier(max_depth=11)  \n",
    "\n",
    "# executes the classifier on the training dataset\n",
    "dt.fit(train_d_a, train_lab_a) "
   ]
  },
  {
   "cell_type": "markdown",
   "metadata": {},
   "source": [
    "<font color=blue>It took **6.47 seconds** to execute the .fit() function of Decision Tree classifier.</font>\n",
    "\n",
    "**Apply `.predict()` to make predictions** for the test data using the best parameter combination, then **run a classification report** and **create a confusion matrix** to furtherly examine the model performance."
   ]
  },
  {
   "cell_type": "code",
   "execution_count": 44,
   "metadata": {
    "collapsed": true
   },
   "outputs": [],
   "source": [
    "predictions_arrest_dt = grid_search_dt.predict(test_d_a)"
   ]
  },
  {
   "cell_type": "code",
   "execution_count": 45,
   "metadata": {},
   "outputs": [
    {
     "name": "stdout",
     "output_type": "stream",
     "text": [
      "             precision    recall  f1-score   support\n",
      "\n",
      "          0       0.89      0.97      0.93     53515\n",
      "          1       0.82      0.50      0.62     12972\n",
      "\n",
      "avg / total       0.88      0.88      0.87     66487\n",
      "\n"
     ]
    }
   ],
   "source": [
    "print(metrics.classification_report(test_lab_a, predictions_arrest_dt))"
   ]
  },
  {
   "cell_type": "code",
   "execution_count": 46,
   "metadata": {},
   "outputs": [
    {
     "data": {
      "image/png": "[encoded data removed]",
      "text/plain": [
       "<matplotlib.figure.Figure at 0x1be290c5710>"
      ]
     },
     "metadata": {},
     "output_type": "display_data"
    }
   ],
   "source": [
    "confusion_matrix_arrest_dt = metrics.confusion_matrix(test_lab_a, predictions_arrest_dt)\n",
    "\n",
    "plt.matshow(confusion_matrix_arrest_dt)\n",
    "plt.title('Confusion matrix - DT - Arrest')\n",
    "plt.colorbar()\n",
    "plt.ylabel('True label')\n",
    "plt.xlabel('Predicted label')\n",
    "plt.show()"
   ]
  },
  {
   "cell_type": "markdown",
   "metadata": {},
   "source": [
    "<font color=blue>The report and confusion matrix lead to detailed information on how the classifier perform on the prediction task.  The low recall score (0.5) indicates that the classifier didn't performed very well on identifying the crimes that no arrest will be made.  </font>"
   ]
  },
  {
   "cell_type": "markdown",
   "metadata": {},
   "source": [
    "### 4.1.2.2 Random Forest Classifer\n",
    "Let's carry out the same procedure utilising Random Forest Classifier. **Create the `GridSearchCV` function according to the parameter settings.**"
   ]
  },
  {
   "cell_type": "code",
   "execution_count": 47,
   "metadata": {
    "collapsed": true
   },
   "outputs": [],
   "source": [
    "# define the parameter values that should be searched\n",
    "parameters_rf = {'n_estimators': [60, 70, 80], 'max_depth':[10, 20, 30]}\n",
    "\n",
    "# initiate and fit the grid\n",
    "grid_search_rf = GridSearchCV(RandomForestClassifier(), parameters_rf, cv=5, scoring='accuracy')"
   ]
  },
  {
   "cell_type": "code",
   "execution_count": 48,
   "metadata": {},
   "outputs": [
    {
     "data": {
      "text/plain": [
       "GridSearchCV(cv=5, error_score='raise',\n",
       "       estimator=RandomForestClassifier(bootstrap=True, class_weight=None, criterion='gini',\n",
       "            max_depth=None, max_features='auto', max_leaf_nodes=None,\n",
       "            min_impurity_decrease=0.0, min_impurity_split=None,\n",
       "            min_samples_leaf=1, min_samples_split=2,\n",
       "            min_weight_fraction_leaf=0.0, n_estimators=10, n_jobs=1,\n",
       "            oob_score=False, random_state=None, verbose=0,\n",
       "            warm_start=False),\n",
       "       fit_params={}, iid=True, n_jobs=1,\n",
       "       param_grid={'n_estimators': [60, 70, 80], 'max_depth': [10, 20, 30]},\n",
       "       pre_dispatch='2*n_jobs', refit=True, scoring='accuracy', verbose=0)"
      ]
     },
     "execution_count": 48,
     "metadata": {},
     "output_type": "execute_result"
    }
   ],
   "source": [
    "grid_search_rf.fit(train_d_a,train_lab_a)"
   ]
  },
  {
   "cell_type": "markdown",
   "metadata": {},
   "source": [
    "**Check the settings using the `grid_scores_` function. Test the model with the best parameters.**"
   ]
  },
  {
   "cell_type": "code",
   "execution_count": 49,
   "metadata": {},
   "outputs": [
    {
     "data": {
      "text/plain": [
       "[mean: 0.81395, std: 0.00224, params: {'max_depth': 10, 'n_estimators': 60},\n",
       " mean: 0.81375, std: 0.00189, params: {'max_depth': 10, 'n_estimators': 70},\n",
       " mean: 0.81072, std: 0.00348, params: {'max_depth': 10, 'n_estimators': 80},\n",
       " mean: 0.83984, std: 0.00151, params: {'max_depth': 20, 'n_estimators': 60},\n",
       " mean: 0.84178, std: 0.00338, params: {'max_depth': 20, 'n_estimators': 70},\n",
       " mean: 0.84099, std: 0.00228, params: {'max_depth': 20, 'n_estimators': 80},\n",
       " mean: 0.86080, std: 0.00075, params: {'max_depth': 30, 'n_estimators': 60},\n",
       " mean: 0.86141, std: 0.00122, params: {'max_depth': 30, 'n_estimators': 70},\n",
       " mean: 0.86148, std: 0.00110, params: {'max_depth': 30, 'n_estimators': 80}]"
      ]
     },
     "execution_count": 49,
     "metadata": {},
     "output_type": "execute_result"
    }
   ],
   "source": [
    "# view the complete results \n",
    "grid_search_rf.grid_scores_ "
   ]
  },
  {
   "cell_type": "code",
   "execution_count": 50,
   "metadata": {},
   "outputs": [
    {
     "name": "stdout",
     "output_type": "stream",
     "text": [
      "{'max_depth': 30, 'n_estimators': 80}\n",
      "0.863206341089\n"
     ]
    }
   ],
   "source": [
    "# examine the best model and print accuracy score\n",
    "rf_score = grid_search_rf.score(test_d_a, test_lab_a)\n",
    "print(grid_search_rf.best_params_)\n",
    "print(rf_score)"
   ]
  },
  {
   "cell_type": "markdown",
   "metadata": {},
   "source": [
    "<font color=blue>We achieved a accuracy rate of **0.86** using the best-known parameter set {'max_depth': 30, 'n_estimators': 80}. </font>"
   ]
  },
  {
   "cell_type": "markdown",
   "metadata": {},
   "source": [
    "**Examine time spent on executing `.fit()`.**"
   ]
  },
  {
   "cell_type": "code",
   "execution_count": 51,
   "metadata": {},
   "outputs": [
    {
     "name": "stdout",
     "output_type": "stream",
     "text": [
      "Wall time: 1min 19s\n"
     ]
    }
   ],
   "source": [
    "%%time\n",
    "\n",
    "# creates the RF classifier\n",
    "rf = RandomForestClassifier(n_estimators=80, max_depth=30) \n",
    "\n",
    "# executes the classifier on the training dataset\n",
    "rf.fit(train_d_a, train_lab_a) "
   ]
  },
  {
   "cell_type": "markdown",
   "metadata": {},
   "source": [
    "<font color=blue>It took **1 minute 19 seconds** to execute the .fit() function of Random Forest Classifier.</font>\n",
    "\n",
    "**Apply `.predict()` to make predictions** for the test data using the best parameter combination, then **run a classification report** and **create a confusion matrix** to furtherly examine the model performance."
   ]
  },
  {
   "cell_type": "code",
   "execution_count": 52,
   "metadata": {
    "collapsed": true
   },
   "outputs": [],
   "source": [
    "predictions_arrest_rf = grid_search_rf.predict(test_d_a)"
   ]
  },
  {
   "cell_type": "code",
   "execution_count": 53,
   "metadata": {},
   "outputs": [
    {
     "name": "stdout",
     "output_type": "stream",
     "text": [
      "             precision    recall  f1-score   support\n",
      "\n",
      "          0       0.87      0.98      0.92     53515\n",
      "          1       0.81      0.39      0.53     12972\n",
      "\n",
      "avg / total       0.86      0.86      0.84     66487\n",
      "\n"
     ]
    }
   ],
   "source": [
    "print(metrics.classification_report(test_lab_a, predictions_arrest_rf))"
   ]
  },
  {
   "cell_type": "code",
   "execution_count": 54,
   "metadata": {},
   "outputs": [
    {
     "data": {
      "image/png": "[encoded data removed]",
      "text/plain": [
       "<matplotlib.figure.Figure at 0x1be29cda9e8>"
      ]
     },
     "metadata": {},
     "output_type": "display_data"
    }
   ],
   "source": [
    "confusion_matrix_arrest_rf = metrics.confusion_matrix(test_lab_a, predictions_arrest_rf)\n",
    "\n",
    "plt.matshow(confusion_matrix_arrest_rf)\n",
    "plt.title('Confusion matrix - RF - Arrest')\n",
    "plt.colorbar()\n",
    "plt.ylabel('True label')\n",
    "plt.xlabel('Predicted label')\n",
    "plt.show()"
   ]
  },
  {
   "cell_type": "markdown",
   "metadata": {},
   "source": [
    "<font color=blue>The report and confusion matrix suggest similar interpretation with the last one using DT. With a recall score  of 0.39, the Random Forest Classifier provided an even poorer performance on identifying crimes that no arrest will be made.  </font>"
   ]
  },
  {
   "cell_type": "markdown",
   "metadata": {
    "collapsed": true
   },
   "source": [
    "### 4.1.3 Evaluation\n",
    "For predicting the arrest probablity, it turns out that Decision Tree Classifier delivered a better performance than Random Forest Classifier in terms of both the accuracy rate and the speed. "
   ]
  },
  {
   "cell_type": "markdown",
   "metadata": {
    "collapsed": true
   },
   "source": [
    "### 4.2 Predict Crime Type\n",
    "Our second task is predicting crime categories in Chicago using machine learning techniques.  \n",
    "### 4.2.1 Data Pre-processing\n",
    "#### 4.2.1.1 Organise and clean the dataset"
   ]
  },
  {
   "cell_type": "code",
   "execution_count": 55,
   "metadata": {},
   "outputs": [
    {
     "data": {
      "text/html": [
       "<div>\n",
       "<style>\n",
       "    .dataframe thead tr:only-child th {\n",
       "        text-align: right;\n",
       "    }\n",
       "\n",
       "    .dataframe thead th {\n",
       "        text-align: left;\n",
       "    }\n",
       "\n",
       "    .dataframe tbody tr th {\n",
       "        vertical-align: top;\n",
       "    }\n",
       "</style>\n",
       "<table border=\"1\" class=\"dataframe\">\n",
       "  <thead>\n",
       "    <tr style=\"text-align: right;\">\n",
       "      <th></th>\n",
       "      <th>Location</th>\n",
       "      <th>Arrest</th>\n",
       "      <th>Domestic</th>\n",
       "      <th>CommunityArea</th>\n",
       "      <th>Month</th>\n",
       "      <th>Weekday</th>\n",
       "      <th>Hour</th>\n",
       "      <th>TimeOfDay</th>\n",
       "    </tr>\n",
       "    <tr>\n",
       "      <th>Date</th>\n",
       "      <th></th>\n",
       "      <th></th>\n",
       "      <th></th>\n",
       "      <th></th>\n",
       "      <th></th>\n",
       "      <th></th>\n",
       "      <th></th>\n",
       "      <th></th>\n",
       "    </tr>\n",
       "  </thead>\n",
       "  <tbody>\n",
       "    <tr>\n",
       "      <th>2017-09-21 00:15:00</th>\n",
       "      <td>CURRENCY EXCHANGE</td>\n",
       "      <td>True</td>\n",
       "      <td>False</td>\n",
       "      <td>North Side</td>\n",
       "      <td>9</td>\n",
       "      <td>3</td>\n",
       "      <td>0</td>\n",
       "      <td>Night</td>\n",
       "    </tr>\n",
       "    <tr>\n",
       "      <th>2017-10-12 19:14:00</th>\n",
       "      <td>JAIL / LOCK-UP FACILITY</td>\n",
       "      <td>True</td>\n",
       "      <td>False</td>\n",
       "      <td>North Side</td>\n",
       "      <td>10</td>\n",
       "      <td>3</td>\n",
       "      <td>19</td>\n",
       "      <td>Night</td>\n",
       "    </tr>\n",
       "    <tr>\n",
       "      <th>2017-10-30 11:52:00</th>\n",
       "      <td>APARTMENT</td>\n",
       "      <td>True</td>\n",
       "      <td>False</td>\n",
       "      <td>South Side</td>\n",
       "      <td>10</td>\n",
       "      <td>0</td>\n",
       "      <td>11</td>\n",
       "      <td>Day</td>\n",
       "    </tr>\n",
       "  </tbody>\n",
       "</table>\n",
       "</div>"
      ],
      "text/plain": [
       "                                    Location  Arrest  Domestic CommunityArea  \\\n",
       "Date                                                                           \n",
       "2017-09-21 00:15:00        CURRENCY EXCHANGE    True     False    North Side   \n",
       "2017-10-12 19:14:00  JAIL / LOCK-UP FACILITY    True     False    North Side   \n",
       "2017-10-30 11:52:00                APARTMENT    True     False    South Side   \n",
       "\n",
       "                    Month Weekday Hour TimeOfDay  \n",
       "Date                                              \n",
       "2017-09-21 00:15:00     9       3    0     Night  \n",
       "2017-10-12 19:14:00    10       3   19     Night  \n",
       "2017-10-30 11:52:00    10       0   11       Day  "
      ]
     },
     "execution_count": 55,
     "metadata": {},
     "output_type": "execute_result"
    }
   ],
   "source": [
    "# drop columns\n",
    "type_attribute = crime_predict.drop(['PrimaryType', 'Day'], axis = 1)\n",
    "\n",
    "# check the first few rows of the dataframe\n",
    "type_attribute.head(3)"
   ]
  },
  {
   "cell_type": "markdown",
   "metadata": {
    "collapsed": true
   },
   "source": [
    "**Use the `LabelEncoder` we created in last task to convert categorical features to the format required for the classifier. **"
   ]
  },
  {
   "cell_type": "code",
   "execution_count": 56,
   "metadata": {
    "collapsed": true
   },
   "outputs": [],
   "source": [
    "# runs LabelEncoder on the PrimaryType column\n",
    "labels_type = le.fit_transform(crime_predict['PrimaryType'])"
   ]
  },
  {
   "cell_type": "markdown",
   "metadata": {},
   "source": [
    "**Create an array of dictionaries for `type_attribute` data.**"
   ]
  },
  {
   "cell_type": "code",
   "execution_count": 57,
   "metadata": {},
   "outputs": [
    {
     "data": {
      "text/plain": [
       "{'Arrest': True,\n",
       " 'CommunityArea': 'North Side',\n",
       " 'Domestic': False,\n",
       " 'Hour': '0',\n",
       " 'Location': 'CURRENCY EXCHANGE',\n",
       " 'Month': '9',\n",
       " 'TimeOfDay': 'Night',\n",
       " 'Weekday': '3'}"
      ]
     },
     "execution_count": 57,
     "metadata": {},
     "output_type": "execute_result"
    }
   ],
   "source": [
    "#convert attribute data to an array of dictionaries\n",
    "type_dict = type_attribute.to_dict('records')\n",
    "\n",
    "# check the first item\n",
    "type_dict[0]"
   ]
  },
  {
   "cell_type": "markdown",
   "metadata": {
    "collapsed": true
   },
   "source": [
    "**Execute the `DictVectorizer` to extract the matrix and then convert it to an array for the training process.**"
   ]
  },
  {
   "cell_type": "code",
   "execution_count": 58,
   "metadata": {
    "collapsed": true
   },
   "outputs": [],
   "source": [
    "# execute process on the record dictionaries\n",
    "vec_type = vec.fit_transform(type_dict)  \n",
    "\n",
    "# convert matrix to array\n",
    "vec_type_array = vec_type.toarray() "
   ]
  },
  {
   "cell_type": "markdown",
   "metadata": {},
   "source": [
    "#### 4.2.1.2 Split training and testing sets\n",
    "**Apply `train_test_split` tool from `scikit` to randomly split the attribute and label data into training and testing sets.** "
   ]
  },
  {
   "cell_type": "code",
   "execution_count": 59,
   "metadata": {},
   "outputs": [
    {
     "name": "stdout",
     "output_type": "stream",
     "text": [
      "There are a total of 199460 samples in the training dataset and 66487 samples in the testing dataset.\n"
     ]
    }
   ],
   "source": [
    "train_d_t, test_d_t, train_lab_t, test_lab_t = train_test_split(vec_type_array, labels_type)\n",
    "\n",
    "print('There are a total of ' + str(len(train_d_t)) + ' samples in the training dataset and ' \n",
    "      + str(len(test_d_t)) + ' samples in the testing dataset.')"
   ]
  },
  {
   "cell_type": "markdown",
   "metadata": {},
   "source": [
    "### 4.2.2 Model Development\n",
    "The process is similar to what we applied to predicting arrest. We will still use **`Decision Tree`**and **`Random Forest`** for the crime category prediction process.\n",
    "### 4.2.2.1 Decision Tree\n",
    "Since we have already set the parameters for `GridSearchCV` in the last task, we should simply **apply the `.fit()` funtion**."
   ]
  },
  {
   "cell_type": "code",
   "execution_count": 60,
   "metadata": {},
   "outputs": [
    {
     "data": {
      "text/plain": [
       "GridSearchCV(cv=5, error_score='raise',\n",
       "       estimator=DecisionTreeClassifier(class_weight=None, criterion='gini', max_depth=None,\n",
       "            max_features=None, max_leaf_nodes=None,\n",
       "            min_impurity_decrease=0.0, min_impurity_split=None,\n",
       "            min_samples_leaf=1, min_samples_split=2,\n",
       "            min_weight_fraction_leaf=0.0, presort=False, random_state=None,\n",
       "            splitter='best'),\n",
       "       fit_params={}, iid=True, n_jobs=1,\n",
       "       param_grid={'max_depth': [7, 8, 9, 10, 11]},\n",
       "       pre_dispatch='2*n_jobs', refit=True, scoring='accuracy', verbose=0)"
      ]
     },
     "execution_count": 60,
     "metadata": {},
     "output_type": "execute_result"
    }
   ],
   "source": [
    "grid_search_dt.fit(train_d_t,train_lab_t)"
   ]
  },
  {
   "cell_type": "markdown",
   "metadata": {},
   "source": [
    "**Check the settings using the `grid_scores_` function. Test the model with the best parameters.**"
   ]
  },
  {
   "cell_type": "code",
   "execution_count": 61,
   "metadata": {},
   "outputs": [
    {
     "data": {
      "text/plain": [
       "[mean: 0.49278, std: 0.00144, params: {'max_depth': 7},\n",
       " mean: 0.49488, std: 0.00094, params: {'max_depth': 8},\n",
       " mean: 0.49730, std: 0.00043, params: {'max_depth': 9},\n",
       " mean: 0.49878, std: 0.00088, params: {'max_depth': 10},\n",
       " mean: 0.49872, std: 0.00083, params: {'max_depth': 11}]"
      ]
     },
     "execution_count": 61,
     "metadata": {},
     "output_type": "execute_result"
    }
   ],
   "source": [
    "# view the complete results\n",
    "grid_search_dt.grid_scores_"
   ]
  },
  {
   "cell_type": "code",
   "execution_count": 62,
   "metadata": {},
   "outputs": [
    {
     "name": "stdout",
     "output_type": "stream",
     "text": [
      "{'max_depth': 10}\n",
      "0.499676628514\n"
     ]
    }
   ],
   "source": [
    "# examine the best model and print accuracy score\n",
    "dt_score = grid_search_dt.score(test_d_t, test_lab_t)\n",
    "print(grid_search_dt.best_params_)\n",
    "print(dt_score)"
   ]
  },
  {
   "cell_type": "markdown",
   "metadata": {},
   "source": [
    "<font color=blue>We achieved a accuracy rate of nearly **0.5** using the best-known parameter set {'max_depth': 10}. </font>"
   ]
  },
  {
   "cell_type": "markdown",
   "metadata": {},
   "source": [
    "**Examine time spent on executing `.fit()`.**"
   ]
  },
  {
   "cell_type": "code",
   "execution_count": 63,
   "metadata": {},
   "outputs": [
    {
     "name": "stdout",
     "output_type": "stream",
     "text": [
      "Wall time: 7.35 s\n"
     ]
    }
   ],
   "source": [
    "%%time\n",
    "\n",
    "# creates the DT classifier\n",
    "dt = DecisionTreeClassifier(max_depth = 9, min_samples_split = 2)  \n",
    "\n",
    "# executes the classifier on the training dataset\n",
    "dt.fit(train_d_t, train_lab_t) "
   ]
  },
  {
   "cell_type": "markdown",
   "metadata": {},
   "source": [
    "<font color=blue>It took **7.35 seconds** to execute the .fit() function of Decision Tree Classifier.</font>"
   ]
  },
  {
   "cell_type": "markdown",
   "metadata": {},
   "source": [
    "### 4.2.2.2 Random Forest Classifer\n",
    "**Apply the `.fit()` funtion**."
   ]
  },
  {
   "cell_type": "code",
   "execution_count": 64,
   "metadata": {},
   "outputs": [
    {
     "data": {
      "text/plain": [
       "GridSearchCV(cv=5, error_score='raise',\n",
       "       estimator=RandomForestClassifier(bootstrap=True, class_weight=None, criterion='gini',\n",
       "            max_depth=None, max_features='auto', max_leaf_nodes=None,\n",
       "            min_impurity_decrease=0.0, min_impurity_split=None,\n",
       "            min_samples_leaf=1, min_samples_split=2,\n",
       "            min_weight_fraction_leaf=0.0, n_estimators=10, n_jobs=1,\n",
       "            oob_score=False, random_state=None, verbose=0,\n",
       "            warm_start=False),\n",
       "       fit_params={}, iid=True, n_jobs=1,\n",
       "       param_grid={'n_estimators': [60, 70, 80], 'max_depth': [10, 20, 30]},\n",
       "       pre_dispatch='2*n_jobs', refit=True, scoring='accuracy', verbose=0)"
      ]
     },
     "execution_count": 64,
     "metadata": {},
     "output_type": "execute_result"
    }
   ],
   "source": [
    "grid_search_rf.fit(train_d_t,train_lab_t)"
   ]
  },
  {
   "cell_type": "markdown",
   "metadata": {},
   "source": [
    "**Check the settings using the `grid_scores_` function. Test the model with the best parameters.**"
   ]
  },
  {
   "cell_type": "code",
   "execution_count": 65,
   "metadata": {},
   "outputs": [
    {
     "data": {
      "text/plain": [
       "[mean: 0.47144, std: 0.00062, params: {'max_depth': 10, 'n_estimators': 60},\n",
       " mean: 0.47203, std: 0.00172, params: {'max_depth': 10, 'n_estimators': 70},\n",
       " mean: 0.47157, std: 0.00129, params: {'max_depth': 10, 'n_estimators': 80},\n",
       " mean: 0.50342, std: 0.00152, params: {'max_depth': 20, 'n_estimators': 60},\n",
       " mean: 0.50338, std: 0.00099, params: {'max_depth': 20, 'n_estimators': 70},\n",
       " mean: 0.50346, std: 0.00123, params: {'max_depth': 20, 'n_estimators': 80},\n",
       " mean: 0.48412, std: 0.00213, params: {'max_depth': 30, 'n_estimators': 60},\n",
       " mean: 0.48372, std: 0.00168, params: {'max_depth': 30, 'n_estimators': 70},\n",
       " mean: 0.48546, std: 0.00125, params: {'max_depth': 30, 'n_estimators': 80}]"
      ]
     },
     "execution_count": 65,
     "metadata": {},
     "output_type": "execute_result"
    }
   ],
   "source": [
    "# view the complete results\n",
    "grid_search_rf.grid_scores_"
   ]
  },
  {
   "cell_type": "code",
   "execution_count": 66,
   "metadata": {},
   "outputs": [
    {
     "name": "stdout",
     "output_type": "stream",
     "text": [
      "{'max_depth': 20, 'n_estimators': 80}\n",
      "0.503361559403\n"
     ]
    }
   ],
   "source": [
    "# examine the best model and print accuracy score\n",
    "rf_score = grid_search_rf.score(test_d_t, test_lab_t)\n",
    "print(grid_search_rf.best_params_)\n",
    "print(rf_score)"
   ]
  },
  {
   "cell_type": "markdown",
   "metadata": {},
   "source": [
    "<font color=blue>We achieved a accuracy rate of **0.5** using the best-known parameter set {'max_depth': 20, 'n_estimators': 80}. </font>"
   ]
  },
  {
   "cell_type": "markdown",
   "metadata": {},
   "source": [
    "**Examine time spent on executing `.fit()`.**"
   ]
  },
  {
   "cell_type": "code",
   "execution_count": 67,
   "metadata": {},
   "outputs": [
    {
     "name": "stdout",
     "output_type": "stream",
     "text": [
      "Wall time: 1min 1s\n"
     ]
    }
   ],
   "source": [
    "%%time\n",
    "\n",
    "# creates the RF classifier\n",
    "rf = RandomForestClassifier(n_estimators=70, max_depth=20) \n",
    "\n",
    "# executes the classifier on the training dataset\n",
    "rf.fit(train_d_t, train_lab_t) "
   ]
  },
  {
   "cell_type": "markdown",
   "metadata": {},
   "source": [
    "<font color=blue>It took **1 minute 1 seconds** to execute the .fit() function of Random Forest Classifier.</font>"
   ]
  },
  {
   "cell_type": "markdown",
   "metadata": {
    "collapsed": true
   },
   "source": [
    "### 4.2.3 Evaluation\n",
    "Decision Tree still runs greatly faster than Random Forest Classifier. However, our results across all the reduced 20 crime categories demonstrate the difficulty of the fully-specified crime classification problem with both two classifiers achieving a low accuracy of around 50%. "
   ]
  },
  {
   "cell_type": "markdown",
   "metadata": {
    "collapsed": true
   },
   "source": [
    "## 5 Conclusion\n",
    "In this project, we made an exploration and obtained insights of the Chicago crime data in 2017 using data mining techniques. The data analysis and visualisation reveal some interesting pattern and trends. For instance, 12pm can be considered to be the most dangerous time during a day. As for the prediction tasks, we found Decision Tree performs better than Random Forest for predicting arrests. However, both of them didn't yield convincing results of crime category classification. We could improve the feature selection for potential improvement on the model. Also, other algorithms and techniques can be employed to generate better models for crime classification prediction."
   ]
  },
  {
   "cell_type": "markdown",
   "metadata": {
    "collapsed": true
   },
   "source": [
    "## References\n",
    "* [1] Kohtz, S.J., He, L., Al Najjar, W.A. and Alghoul, T.M., 2017. *Crime Patterns in Chicago Using Agent Based Modeling*. In IIE Annual Conference. Proceedings (pp. 964-969). Institute of Industrial and Systems Engineers (IISE).\n",
    "* [2] Chicago Police Department, 2018. Crimes -2011 to present. [online] Available at: < https://data.cityofchicago.org/Public-Safety/Crimes-2001-to-present/ijzp-q8t2/data> [Accessed 15 April 2018].\n",
    "* [3] Wikipedia, 2018. Community Areas in Chicago. [online] Available at: < https://en.wikipedia.org/wiki/Community_areas_in_Chicago > [Accessed 20 April 2018].\n",
    "* [4] Abouelnaga, Y., 2016. *San Francisco Crime Classification*. arXiv preprint arXiv:1607.03626.\n",
    "* [5] Cherian, J. and Dawson, M., 2015. RoboCop: Crime Classification and Prediction in San Francisco. Forest, 15, pp.70-69.\n",
    "* [6] Workshop 4 - Data Munging\n",
    "* [7] Workshop 7 - Classification\n",
    "* [8] Workshop 8 - Analysis Workflow\n",
    "\n"
   ]
  }
 ],
 "metadata": {
  "kernelspec": {
   "display_name": "Python 3",
   "language": "python",
   "name": "python3"
  },
  "language_info": {
   "codemirror_mode": {
    "name": "ipython",
    "version": 3
   },
   "file_extension": ".py",
   "mimetype": "text/x-python",
   "name": "python",
   "nbconvert_exporter": "python",
   "pygments_lexer": "ipython3",
   "version": "3.6.2"
  }
 },
 "nbformat": 4,
 "nbformat_minor": 2
}
